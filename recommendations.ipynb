{
 "cells": [
  {
   "cell_type": "markdown",
   "id": "f4095ae4-7294-4b28-853e-88d235002c97",
   "metadata": {},
   "source": [
    "# Инициализация"
   ]
  },
  {
   "cell_type": "markdown",
   "id": "2f2318d2-9df8-4911-915e-15b725c44f8a",
   "metadata": {},
   "source": [
    "Загружаем библиотеки необходимые для выполнения кода ноутбука."
   ]
  },
  {
   "cell_type": "code",
   "execution_count": 1,
   "id": "662d04e7-1b0b-4e4a-9ddf-4526d7fef119",
   "metadata": {},
   "outputs": [],
   "source": [
    "import matplotlib.pyplot as plt\n",
    "import numpy as np\n",
    "import pandas as pd\n",
    "import scipy\n",
    "from sklearn.preprocessing import LabelEncoder\n",
    "from implicit.als import AlternatingLeastSquares\n",
    "from catboost import CatBoostClassifier, Pool\n",
    "import boto3\n",
    "import os\n",
    "from dotenv import load_dotenv"
   ]
  },
  {
   "cell_type": "code",
   "execution_count": 2,
   "id": "a517f823",
   "metadata": {},
   "outputs": [],
   "source": [
    "%matplotlib inline\n",
    "%config InlineBackend.figure_format = 'png'\n",
    "%config InlineBackend.figure_format = 'retina'"
   ]
  },
  {
   "cell_type": "markdown",
   "id": "bf80fbc5-b660-4fac-8fbb-a5cae77313b3",
   "metadata": {},
   "source": [
    "# === ЭТАП 1 ==="
   ]
  },
  {
   "cell_type": "markdown",
   "id": "5263a8b3-fe99-4204-8a2e-105182792c11",
   "metadata": {},
   "source": [
    "# Загрузка первичных данных"
   ]
  },
  {
   "cell_type": "markdown",
   "id": "1b54a6a5-1656-4e3c-99d1-49dc39451d33",
   "metadata": {},
   "source": [
    "Загружаем первичные данные из файлов:\n",
    "- tracks.parquet\n",
    "- catalog_names.parquet\n",
    "- interactions.parquet"
   ]
  },
  {
   "cell_type": "code",
   "execution_count": 13,
   "id": "5d4b8961-3f35-4e58-9d6b-3e2dbd2c4224",
   "metadata": {},
   "outputs": [],
   "source": [
    "tracks = pd.read_parquet(\"./tracks.parquet\")\n",
    "catalog_names = pd.read_parquet(\"./catalog_names.parquet\")\n",
    "interactions = pd.read_parquet(\"./interactions.parquet\")"
   ]
  },
  {
   "cell_type": "markdown",
   "id": "e8f2a1f7-a05f-4f39-af90-5f4018aa6f9d",
   "metadata": {},
   "source": [
    "# Обзор данных"
   ]
  },
  {
   "cell_type": "markdown",
   "id": "46a85307-896c-4fac-9fcf-f0dffa90889e",
   "metadata": {},
   "source": [
    "Проверяем данные, есть ли с ними явные проблемы."
   ]
  },
  {
   "cell_type": "code",
   "execution_count": 4,
   "id": "c9f8f17e-9b56-4f5a-a463-f694a993effb",
   "metadata": {},
   "outputs": [
    {
     "name": "stdout",
     "output_type": "stream",
     "text": [
      "<class 'pandas.core.frame.DataFrame'>\n",
      "RangeIndex: 1000000 entries, 0 to 999999\n",
      "Data columns (total 4 columns):\n",
      " #   Column    Non-Null Count    Dtype \n",
      "---  ------    --------------    ----- \n",
      " 0   track_id  1000000 non-null  int64 \n",
      " 1   albums    1000000 non-null  object\n",
      " 2   artists   1000000 non-null  object\n",
      " 3   genres    1000000 non-null  object\n",
      "dtypes: int64(1), object(3)\n",
      "memory usage: 30.5+ MB\n"
     ]
    }
   ],
   "source": [
    "tracks.info()"
   ]
  },
  {
   "cell_type": "code",
   "execution_count": 5,
   "id": "efd2e2eb-3bec-4ce1-87ac-232bab8bc0d0",
   "metadata": {},
   "outputs": [
    {
     "data": {
      "text/html": [
       "<div>\n",
       "<style scoped>\n",
       "    .dataframe tbody tr th:only-of-type {\n",
       "        vertical-align: middle;\n",
       "    }\n",
       "\n",
       "    .dataframe tbody tr th {\n",
       "        vertical-align: top;\n",
       "    }\n",
       "\n",
       "    .dataframe thead th {\n",
       "        text-align: right;\n",
       "    }\n",
       "</style>\n",
       "<table border=\"1\" class=\"dataframe\">\n",
       "  <thead>\n",
       "    <tr style=\"text-align: right;\">\n",
       "      <th></th>\n",
       "      <th>albums</th>\n",
       "      <th>artists</th>\n",
       "      <th>genres</th>\n",
       "    </tr>\n",
       "    <tr>\n",
       "      <th>track_id</th>\n",
       "      <th></th>\n",
       "      <th></th>\n",
       "      <th></th>\n",
       "    </tr>\n",
       "  </thead>\n",
       "  <tbody>\n",
       "    <tr>\n",
       "      <th>518436</th>\n",
       "      <td>[55672, 55673, 4497446, 4497447, 4497448, 4497...</td>\n",
       "      <td>[29903, 322, 316, 321, 319, 320]</td>\n",
       "      <td>[68]</td>\n",
       "    </tr>\n",
       "    <tr>\n",
       "      <th>700056</th>\n",
       "      <td>[37164]</td>\n",
       "      <td>[118708]</td>\n",
       "      <td>[7, 112, 61]</td>\n",
       "    </tr>\n",
       "    <tr>\n",
       "      <th>34625231</th>\n",
       "      <td>[4271134]</td>\n",
       "      <td>[4732313]</td>\n",
       "      <td>[68]</td>\n",
       "    </tr>\n",
       "    <tr>\n",
       "      <th>39019190</th>\n",
       "      <td>[1806703]</td>\n",
       "      <td>[2720477]</td>\n",
       "      <td>[12]</td>\n",
       "    </tr>\n",
       "    <tr>\n",
       "      <th>95229664</th>\n",
       "      <td>[19388714]</td>\n",
       "      <td>[222689]</td>\n",
       "      <td>[11]</td>\n",
       "    </tr>\n",
       "  </tbody>\n",
       "</table>\n",
       "</div>"
      ],
      "text/plain": [
       "                                                     albums  \\\n",
       "track_id                                                      \n",
       "518436    [55672, 55673, 4497446, 4497447, 4497448, 4497...   \n",
       "700056                                              [37164]   \n",
       "34625231                                          [4271134]   \n",
       "39019190                                          [1806703]   \n",
       "95229664                                         [19388714]   \n",
       "\n",
       "                                   artists        genres  \n",
       "track_id                                                  \n",
       "518436    [29903, 322, 316, 321, 319, 320]          [68]  \n",
       "700056                            [118708]  [7, 112, 61]  \n",
       "34625231                         [4732313]          [68]  \n",
       "39019190                         [2720477]          [12]  \n",
       "95229664                          [222689]          [11]  "
      ]
     },
     "execution_count": 5,
     "metadata": {},
     "output_type": "execute_result"
    }
   ],
   "source": [
    "tracks.sample(5, random_state=42).sort_values(\"track_id\").set_index(\"track_id\")"
   ]
  },
  {
   "cell_type": "code",
   "execution_count": 6,
   "id": "82486b00",
   "metadata": {},
   "outputs": [
    {
     "data": {
      "text/plain": [
       "track_id    0\n",
       "albums      0\n",
       "artists     0\n",
       "genres      0\n",
       "dtype: int64"
      ]
     },
     "execution_count": 6,
     "metadata": {},
     "output_type": "execute_result"
    }
   ],
   "source": [
    "tracks.isnull().sum().sort_values(ascending=False)"
   ]
  },
  {
   "cell_type": "code",
   "execution_count": 7,
   "id": "d05514bd",
   "metadata": {},
   "outputs": [
    {
     "data": {
      "text/plain": [
       "0"
      ]
     },
     "execution_count": 7,
     "metadata": {},
     "output_type": "execute_result"
    }
   ],
   "source": [
    "tracks.duplicated(subset=[\"track_id\"], keep=False).sum()"
   ]
  },
  {
   "cell_type": "code",
   "execution_count": 8,
   "id": "5dcd4acb",
   "metadata": {},
   "outputs": [
    {
     "name": "stdout",
     "output_type": "stream",
     "text": [
      "<class 'pandas.core.frame.DataFrame'>\n",
      "RangeIndex: 1812471 entries, 0 to 1812470\n",
      "Data columns (total 3 columns):\n",
      " #   Column  Dtype \n",
      "---  ------  ----- \n",
      " 0   id      int64 \n",
      " 1   type    object\n",
      " 2   name    object\n",
      "dtypes: int64(1), object(2)\n",
      "memory usage: 41.5+ MB\n"
     ]
    }
   ],
   "source": [
    "catalog_names.info()"
   ]
  },
  {
   "cell_type": "code",
   "execution_count": 9,
   "id": "b115d1f8",
   "metadata": {},
   "outputs": [
    {
     "data": {
      "text/html": [
       "<div>\n",
       "<style scoped>\n",
       "    .dataframe tbody tr th:only-of-type {\n",
       "        vertical-align: middle;\n",
       "    }\n",
       "\n",
       "    .dataframe tbody tr th {\n",
       "        vertical-align: top;\n",
       "    }\n",
       "\n",
       "    .dataframe thead th {\n",
       "        text-align: right;\n",
       "    }\n",
       "</style>\n",
       "<table border=\"1\" class=\"dataframe\">\n",
       "  <thead>\n",
       "    <tr style=\"text-align: right;\">\n",
       "      <th></th>\n",
       "      <th>type</th>\n",
       "      <th>name</th>\n",
       "    </tr>\n",
       "    <tr>\n",
       "      <th>id</th>\n",
       "      <th></th>\n",
       "      <th></th>\n",
       "    </tr>\n",
       "  </thead>\n",
       "  <tbody>\n",
       "    <tr>\n",
       "      <th>8810199</th>\n",
       "      <td>album</td>\n",
       "      <td>Shadow</td>\n",
       "    </tr>\n",
       "    <tr>\n",
       "      <th>19044912</th>\n",
       "      <td>album</td>\n",
       "      <td>Gnomi Di Natale</td>\n",
       "    </tr>\n",
       "    <tr>\n",
       "      <th>43503873</th>\n",
       "      <td>track</td>\n",
       "      <td>Пароль</td>\n",
       "    </tr>\n",
       "    <tr>\n",
       "      <th>51822590</th>\n",
       "      <td>track</td>\n",
       "      <td>Музыка в фильмах Тарантино</td>\n",
       "    </tr>\n",
       "    <tr>\n",
       "      <th>95436616</th>\n",
       "      <td>track</td>\n",
       "      <td>Ключ</td>\n",
       "    </tr>\n",
       "  </tbody>\n",
       "</table>\n",
       "</div>"
      ],
      "text/plain": [
       "           type                        name\n",
       "id                                         \n",
       "8810199   album                      Shadow\n",
       "19044912  album             Gnomi Di Natale\n",
       "43503873  track                      Пароль\n",
       "51822590  track  Музыка в фильмах Тарантино\n",
       "95436616  track                        Ключ"
      ]
     },
     "execution_count": 9,
     "metadata": {},
     "output_type": "execute_result"
    }
   ],
   "source": [
    "catalog_names.sample(5, random_state=42).sort_values(\"id\").set_index(\"id\")"
   ]
  },
  {
   "cell_type": "code",
   "execution_count": 10,
   "id": "01a78b6b",
   "metadata": {},
   "outputs": [
    {
     "data": {
      "text/plain": [
       "id      0\n",
       "type    0\n",
       "name    0\n",
       "dtype: int64"
      ]
     },
     "execution_count": 10,
     "metadata": {},
     "output_type": "execute_result"
    }
   ],
   "source": [
    "catalog_names.isnull().sum().sort_values(ascending=False)"
   ]
  },
  {
   "cell_type": "code",
   "execution_count": 11,
   "id": "0e645c29",
   "metadata": {},
   "outputs": [
    {
     "data": {
      "text/plain": [
       "70418"
      ]
     },
     "execution_count": 11,
     "metadata": {},
     "output_type": "execute_result"
    }
   ],
   "source": [
    "catalog_names.duplicated(subset=[\"id\"], keep=False).sum()"
   ]
  },
  {
   "cell_type": "code",
   "execution_count": 12,
   "id": "f3782900",
   "metadata": {},
   "outputs": [
    {
     "data": {
      "text/html": [
       "<div>\n",
       "<style scoped>\n",
       "    .dataframe tbody tr th:only-of-type {\n",
       "        vertical-align: middle;\n",
       "    }\n",
       "\n",
       "    .dataframe tbody tr th {\n",
       "        vertical-align: top;\n",
       "    }\n",
       "\n",
       "    .dataframe thead th {\n",
       "        text-align: right;\n",
       "    }\n",
       "</style>\n",
       "<table border=\"1\" class=\"dataframe\">\n",
       "  <thead>\n",
       "    <tr style=\"text-align: right;\">\n",
       "      <th></th>\n",
       "      <th>id</th>\n",
       "      <th>type</th>\n",
       "      <th>name</th>\n",
       "    </tr>\n",
       "  </thead>\n",
       "  <tbody>\n",
       "    <tr>\n",
       "      <th>0</th>\n",
       "      <td>3</td>\n",
       "      <td>album</td>\n",
       "      <td>Taller Children</td>\n",
       "    </tr>\n",
       "    <tr>\n",
       "      <th>1</th>\n",
       "      <td>12</td>\n",
       "      <td>album</td>\n",
       "      <td>Wild Young Hearts</td>\n",
       "    </tr>\n",
       "    <tr>\n",
       "      <th>2</th>\n",
       "      <td>13</td>\n",
       "      <td>album</td>\n",
       "      <td>Lonesome Crow</td>\n",
       "    </tr>\n",
       "    <tr>\n",
       "      <th>3</th>\n",
       "      <td>17</td>\n",
       "      <td>album</td>\n",
       "      <td>Graffiti Soul</td>\n",
       "    </tr>\n",
       "    <tr>\n",
       "      <th>4</th>\n",
       "      <td>26</td>\n",
       "      <td>album</td>\n",
       "      <td>Blues Six Pack</td>\n",
       "    </tr>\n",
       "    <tr>\n",
       "      <th>...</th>\n",
       "      <td>...</td>\n",
       "      <td>...</td>\n",
       "      <td>...</td>\n",
       "    </tr>\n",
       "    <tr>\n",
       "      <th>1141043</th>\n",
       "      <td>21314698</td>\n",
       "      <td>track</td>\n",
       "      <td>No Good For You</td>\n",
       "    </tr>\n",
       "    <tr>\n",
       "      <th>1141108</th>\n",
       "      <td>21320653</td>\n",
       "      <td>track</td>\n",
       "      <td>Oh!</td>\n",
       "    </tr>\n",
       "    <tr>\n",
       "      <th>1141114</th>\n",
       "      <td>21321251</td>\n",
       "      <td>track</td>\n",
       "      <td>Lady in Red</td>\n",
       "    </tr>\n",
       "    <tr>\n",
       "      <th>1141142</th>\n",
       "      <td>21327491</td>\n",
       "      <td>track</td>\n",
       "      <td>Waiting Here</td>\n",
       "    </tr>\n",
       "    <tr>\n",
       "      <th>1141665</th>\n",
       "      <td>21388828</td>\n",
       "      <td>track</td>\n",
       "      <td>Devil</td>\n",
       "    </tr>\n",
       "  </tbody>\n",
       "</table>\n",
       "<p>70418 rows × 3 columns</p>\n",
       "</div>"
      ],
      "text/plain": [
       "               id   type               name\n",
       "0               3  album    Taller Children\n",
       "1              12  album  Wild Young Hearts\n",
       "2              13  album      Lonesome Crow\n",
       "3              17  album      Graffiti Soul\n",
       "4              26  album     Blues Six Pack\n",
       "...           ...    ...                ...\n",
       "1141043  21314698  track    No Good For You\n",
       "1141108  21320653  track                Oh!\n",
       "1141114  21321251  track        Lady in Red\n",
       "1141142  21327491  track       Waiting Here\n",
       "1141665  21388828  track              Devil\n",
       "\n",
       "[70418 rows x 3 columns]"
      ]
     },
     "execution_count": 12,
     "metadata": {},
     "output_type": "execute_result"
    }
   ],
   "source": [
    "catalog_names[catalog_names.duplicated(subset=[\"id\"], keep=False)]"
   ]
  },
  {
   "cell_type": "code",
   "execution_count": 13,
   "id": "884c089b",
   "metadata": {},
   "outputs": [
    {
     "data": {
      "text/html": [
       "<div>\n",
       "<style scoped>\n",
       "    .dataframe tbody tr th:only-of-type {\n",
       "        vertical-align: middle;\n",
       "    }\n",
       "\n",
       "    .dataframe tbody tr th {\n",
       "        vertical-align: top;\n",
       "    }\n",
       "\n",
       "    .dataframe thead th {\n",
       "        text-align: right;\n",
       "    }\n",
       "</style>\n",
       "<table border=\"1\" class=\"dataframe\">\n",
       "  <thead>\n",
       "    <tr style=\"text-align: right;\">\n",
       "      <th></th>\n",
       "      <th>id</th>\n",
       "      <th>type</th>\n",
       "      <th>name</th>\n",
       "    </tr>\n",
       "  </thead>\n",
       "  <tbody>\n",
       "    <tr>\n",
       "      <th>1</th>\n",
       "      <td>12</td>\n",
       "      <td>album</td>\n",
       "      <td>Wild Young Hearts</td>\n",
       "    </tr>\n",
       "    <tr>\n",
       "      <th>658728</th>\n",
       "      <td>12</td>\n",
       "      <td>artist</td>\n",
       "      <td>Phil Everly</td>\n",
       "    </tr>\n",
       "    <tr>\n",
       "      <th>812317</th>\n",
       "      <td>12</td>\n",
       "      <td>genre</td>\n",
       "      <td>shanson</td>\n",
       "    </tr>\n",
       "  </tbody>\n",
       "</table>\n",
       "</div>"
      ],
      "text/plain": [
       "        id    type               name\n",
       "1       12   album  Wild Young Hearts\n",
       "658728  12  artist        Phil Everly\n",
       "812317  12   genre            shanson"
      ]
     },
     "execution_count": 13,
     "metadata": {},
     "output_type": "execute_result"
    }
   ],
   "source": [
    "catalog_names.query(\"id == 12\")"
   ]
  },
  {
   "cell_type": "code",
   "execution_count": null,
   "id": "cac5f10f",
   "metadata": {},
   "outputs": [
    {
     "data": {
      "text/plain": [
       "0"
      ]
     },
     "execution_count": 14,
     "metadata": {},
     "output_type": "execute_result"
    }
   ],
   "source": [
    "catalog_names.duplicated(subset=[\"id\", \"type\"], keep=False).sum()"
   ]
  },
  {
   "cell_type": "code",
   "execution_count": 15,
   "id": "00e00eb6",
   "metadata": {},
   "outputs": [
    {
     "name": "stdout",
     "output_type": "stream",
     "text": [
      "<class 'pandas.core.frame.DataFrame'>\n",
      "Index: 222629898 entries, 0 to 291\n",
      "Data columns (total 4 columns):\n",
      " #   Column      Dtype         \n",
      "---  ------      -----         \n",
      " 0   user_id     int32         \n",
      " 1   track_id    int32         \n",
      " 2   track_seq   int16         \n",
      " 3   started_at  datetime64[ns]\n",
      "dtypes: datetime64[ns](1), int16(1), int32(2)\n",
      "memory usage: 5.4 GB\n"
     ]
    }
   ],
   "source": [
    "interactions.info()"
   ]
  },
  {
   "cell_type": "code",
   "execution_count": 16,
   "id": "ed827ca9",
   "metadata": {},
   "outputs": [
    {
     "data": {
      "text/html": [
       "<div>\n",
       "<style scoped>\n",
       "    .dataframe tbody tr th:only-of-type {\n",
       "        vertical-align: middle;\n",
       "    }\n",
       "\n",
       "    .dataframe tbody tr th {\n",
       "        vertical-align: top;\n",
       "    }\n",
       "\n",
       "    .dataframe thead th {\n",
       "        text-align: right;\n",
       "    }\n",
       "</style>\n",
       "<table border=\"1\" class=\"dataframe\">\n",
       "  <thead>\n",
       "    <tr style=\"text-align: right;\">\n",
       "      <th></th>\n",
       "      <th></th>\n",
       "      <th>track_seq</th>\n",
       "      <th>started_at</th>\n",
       "    </tr>\n",
       "    <tr>\n",
       "      <th>user_id</th>\n",
       "      <th>track_id</th>\n",
       "      <th></th>\n",
       "      <th></th>\n",
       "    </tr>\n",
       "  </thead>\n",
       "  <tbody>\n",
       "    <tr>\n",
       "      <th>73981</th>\n",
       "      <th>48591660</th>\n",
       "      <td>527</td>\n",
       "      <td>2022-09-26</td>\n",
       "    </tr>\n",
       "    <tr>\n",
       "      <th>78605</th>\n",
       "      <th>732405</th>\n",
       "      <td>10</td>\n",
       "      <td>2022-09-14</td>\n",
       "    </tr>\n",
       "    <tr>\n",
       "      <th>844258</th>\n",
       "      <th>3581309</th>\n",
       "      <td>131</td>\n",
       "      <td>2022-06-05</td>\n",
       "    </tr>\n",
       "    <tr>\n",
       "      <th>1091434</th>\n",
       "      <th>14937363</th>\n",
       "      <td>434</td>\n",
       "      <td>2022-06-29</td>\n",
       "    </tr>\n",
       "    <tr>\n",
       "      <th>1273064</th>\n",
       "      <th>40339506</th>\n",
       "      <td>1203</td>\n",
       "      <td>2022-08-24</td>\n",
       "    </tr>\n",
       "  </tbody>\n",
       "</table>\n",
       "</div>"
      ],
      "text/plain": [
       "                  track_seq started_at\n",
       "user_id track_id                      \n",
       "73981   48591660        527 2022-09-26\n",
       "78605   732405           10 2022-09-14\n",
       "844258  3581309         131 2022-06-05\n",
       "1091434 14937363        434 2022-06-29\n",
       "1273064 40339506       1203 2022-08-24"
      ]
     },
     "execution_count": 16,
     "metadata": {},
     "output_type": "execute_result"
    }
   ],
   "source": [
    "interactions.sample(5, random_state=42).sort_values(\"user_id\").set_index([\"user_id\", \"track_id\"])"
   ]
  },
  {
   "cell_type": "code",
   "execution_count": 17,
   "id": "bca397c5",
   "metadata": {},
   "outputs": [
    {
     "data": {
      "text/plain": [
       "user_id       0\n",
       "track_id      0\n",
       "track_seq     0\n",
       "started_at    0\n",
       "dtype: int64"
      ]
     },
     "execution_count": 17,
     "metadata": {},
     "output_type": "execute_result"
    }
   ],
   "source": [
    "interactions.isnull().sum().sort_values(ascending=False)"
   ]
  },
  {
   "cell_type": "code",
   "execution_count": 18,
   "id": "27ecd1be",
   "metadata": {},
   "outputs": [
    {
     "data": {
      "text/plain": [
       "0"
      ]
     },
     "execution_count": 18,
     "metadata": {},
     "output_type": "execute_result"
    }
   ],
   "source": [
    "interactions.duplicated(subset=[\"user_id\", \"track_id\"], keep=False).sum()"
   ]
  },
  {
   "cell_type": "markdown",
   "id": "318b573a-9e2d-4808-95db-60cfb8bbdb73",
   "metadata": {
    "editable": true,
    "slideshow": {
     "slide_type": ""
    },
    "tags": []
   },
   "source": [
    "# Выводы"
   ]
  },
  {
   "cell_type": "markdown",
   "id": "caa96e12-36a8-4401-8f11-98627a49ae9d",
   "metadata": {},
   "source": [
    "Приведём выводы по первому знакомству с данными:\n",
    "- есть ли с данными явные проблемы,\n",
    "- какие корректирующие действия (в целом) были предприняты."
   ]
  },
  {
   "cell_type": "markdown",
   "id": "d60cfb4d",
   "metadata": {},
   "source": [
    "1) Данные выглядят реалистично, пропуски и дублирования в данных отсутствуют (не считая catalog_names, но там данные определяются колонкой \"type\");\n",
    "2) Корректирующие действия не требуются."
   ]
  },
  {
   "cell_type": "markdown",
   "id": "7bc3296b-eba6-4333-a78d-b9304aa87e3d",
   "metadata": {},
   "source": [
    "# === ЭТАП 2 ==="
   ]
  },
  {
   "cell_type": "markdown",
   "id": "68e73960-fd38-4e15-8db0-9a25c35dfd25",
   "metadata": {},
   "source": [
    "# EDA"
   ]
  },
  {
   "cell_type": "markdown",
   "id": "a30e823e-8e0f-4a76-a02e-8d1ba8bf0f8a",
   "metadata": {},
   "source": [
    "Распределение количества прослушанных треков."
   ]
  },
  {
   "cell_type": "markdown",
   "id": "fc8f7254",
   "metadata": {},
   "source": [
    "Распределение уникальных пользователей и прослушиваний по месяцам"
   ]
  },
  {
   "cell_type": "code",
   "execution_count": 3,
   "id": "648ca39d",
   "metadata": {},
   "outputs": [],
   "source": [
    "interactions[\"started_at_month\"] = pd.to_datetime(interactions[\"started_at\"]).dt.to_period('M').dt.to_timestamp().dt.date"
   ]
  },
  {
   "cell_type": "code",
   "execution_count": null,
   "id": "18c1c676",
   "metadata": {},
   "outputs": [
    {
     "ename": "",
     "evalue": "",
     "output_type": "error",
     "traceback": [
      "\u001b[1;31mThe Kernel crashed while executing code in the current cell or a previous cell. \n",
      "\u001b[1;31mPlease review the code in the cell(s) to identify a possible cause of the failure. \n",
      "\u001b[1;31mClick <a href='https://aka.ms/vscodeJupyterKernelCrash'>here</a> for more info. \n",
      "\u001b[1;31mView Jupyter <a href='command:jupyter.viewOutput'>log</a> for further details."
     ]
    }
   ],
   "source": [
    "interactions_by_month_events = interactions.groupby(\"started_at_month\").agg(events=(\"started_at\", 'count')).reset_index()"
   ]
  },
  {
   "cell_type": "code",
   "execution_count": null,
   "id": "4ddfc912",
   "metadata": {},
   "outputs": [],
   "source": [
    "interactions_by_month_users = interactions.groupby(\"started_at_month\").agg(users=(\"user_id\", 'nunique')).reset_index()"
   ]
  },
  {
   "cell_type": "code",
   "execution_count": null,
   "id": "e79c8b91",
   "metadata": {},
   "outputs": [
    {
     "data": {
      "image/png": "[encoded data removed]",
      "text/plain": [
       "<Figure size 1200x600 with 2 Axes>"
      ]
     },
     "metadata": {
      "image/png": {
       "height": 589,
       "width": 1190
      }
     },
     "output_type": "display_data"
    }
   ],
   "source": [
    "fig, axs = plt.subplots(2, 1, figsize=(12, 6))\n",
    "\n",
    "ax = axs[0]\n",
    "ax.plot(interactions_by_month_events[\"started_at_month\"], interactions_by_month_events[\"events\"])\n",
    "ax.set_title(\"Events by months\")\n",
    "\n",
    "ax = axs[1]\n",
    "ax.plot(interactions_by_month_users[\"started_at_month\"], interactions_by_month_users[\"users\"])\n",
    "ax.set_title(\"Users by months\")\n",
    "\n",
    "fig.tight_layout()"
   ]
  },
  {
   "cell_type": "markdown",
   "id": "4c653c3d",
   "metadata": {},
   "source": [
    "Распредление пользователей и треков по количеству прослушиваний"
   ]
  },
  {
   "cell_type": "code",
   "execution_count": null,
   "id": "7875f490",
   "metadata": {},
   "outputs": [
    {
     "data": {
      "image/png": "[encoded data removed]",
      "text/plain": [
       "<Figure size 640x480 with 2 Axes>"
      ]
     },
     "metadata": {
      "image/png": {
       "height": 470,
       "width": 629
      }
     },
     "output_type": "display_data"
    }
   ],
   "source": [
    "#Ограничимся 2000 воспроизведениями, чтобы данные были нагляднее\n",
    "\n",
    "dist1 = interactions.groupby(\"track_id\").agg(count_plays=(\"user_id\", 'count')) \\\n",
    "    .query(\"count_plays < 2000\").sort_values(\"count_plays\")\n",
    "dist2 = interactions.groupby(\"user_id\").agg(count_plays=(\"track_id\", 'count')) \\\n",
    "    .query(\"count_plays < 2000\").sort_values(\"count_plays\")\n",
    "\n",
    "fig, axs = plt.subplots(1, 2, tight_layout=True)\n",
    "axs[0].hist(dist1, bins=20)\n",
    "axs[1].hist(dist2, bins=20)\n",
    "\n",
    "axs[0].title.set_text(\"Count tracks by plays\")\n",
    "axs[0].set_xlabel(\"plays\")\n",
    "axs[1].title.set_text(\"Count users by plays\")\n",
    "axs[1].set_xlabel(\"plays\")\n",
    "\n",
    "plt.show()"
   ]
  },
  {
   "cell_type": "markdown",
   "id": "d765519a-18dd-4d30-9e29-cc2d84cacd79",
   "metadata": {},
   "source": [
    "Наиболее популярные треки"
   ]
  },
  {
   "cell_type": "code",
   "execution_count": null,
   "id": "aecaf630-fde0-4860-b84a-42c933a9606e",
   "metadata": {},
   "outputs": [
    {
     "data": {
      "text/html": [
       "<div>\n",
       "<style scoped>\n",
       "    .dataframe tbody tr th:only-of-type {\n",
       "        vertical-align: middle;\n",
       "    }\n",
       "\n",
       "    .dataframe tbody tr th {\n",
       "        vertical-align: top;\n",
       "    }\n",
       "\n",
       "    .dataframe thead th {\n",
       "        text-align: right;\n",
       "    }\n",
       "</style>\n",
       "<table border=\"1\" class=\"dataframe\">\n",
       "  <thead>\n",
       "    <tr style=\"text-align: right;\">\n",
       "      <th></th>\n",
       "      <th>track_id</th>\n",
       "      <th>type</th>\n",
       "      <th>name</th>\n",
       "      <th>plays</th>\n",
       "    </tr>\n",
       "  </thead>\n",
       "  <tbody>\n",
       "    <tr>\n",
       "      <th>0</th>\n",
       "      <td>53404</td>\n",
       "      <td>track</td>\n",
       "      <td>Smells Like Teen Spirit</td>\n",
       "      <td>111062</td>\n",
       "    </tr>\n",
       "    <tr>\n",
       "      <th>1</th>\n",
       "      <td>33311009</td>\n",
       "      <td>track</td>\n",
       "      <td>Believer</td>\n",
       "      <td>106921</td>\n",
       "    </tr>\n",
       "    <tr>\n",
       "      <th>2</th>\n",
       "      <td>178529</td>\n",
       "      <td>track</td>\n",
       "      <td>Numb</td>\n",
       "      <td>101924</td>\n",
       "    </tr>\n",
       "    <tr>\n",
       "      <th>3</th>\n",
       "      <td>35505245</td>\n",
       "      <td>track</td>\n",
       "      <td>I Got Love</td>\n",
       "      <td>99490</td>\n",
       "    </tr>\n",
       "    <tr>\n",
       "      <th>4</th>\n",
       "      <td>65851540</td>\n",
       "      <td>track</td>\n",
       "      <td>Юность</td>\n",
       "      <td>86670</td>\n",
       "    </tr>\n",
       "    <tr>\n",
       "      <th>...</th>\n",
       "      <td>...</td>\n",
       "      <td>...</td>\n",
       "      <td>...</td>\n",
       "      <td>...</td>\n",
       "    </tr>\n",
       "    <tr>\n",
       "      <th>95</th>\n",
       "      <td>3616433</td>\n",
       "      <td>track</td>\n",
       "      <td>Summertime Sadness</td>\n",
       "      <td>51416</td>\n",
       "    </tr>\n",
       "    <tr>\n",
       "      <th>96</th>\n",
       "      <td>628970</td>\n",
       "      <td>track</td>\n",
       "      <td>I Hate Everything About You</td>\n",
       "      <td>50262</td>\n",
       "    </tr>\n",
       "    <tr>\n",
       "      <th>97</th>\n",
       "      <td>27032843</td>\n",
       "      <td>track</td>\n",
       "      <td>Shut Your Mouth</td>\n",
       "      <td>50189</td>\n",
       "    </tr>\n",
       "    <tr>\n",
       "      <th>98</th>\n",
       "      <td>9282507</td>\n",
       "      <td>track</td>\n",
       "      <td>Родина</td>\n",
       "      <td>49932</td>\n",
       "    </tr>\n",
       "    <tr>\n",
       "      <th>99</th>\n",
       "      <td>560468</td>\n",
       "      <td>track</td>\n",
       "      <td>Варвара</td>\n",
       "      <td>49832</td>\n",
       "    </tr>\n",
       "  </tbody>\n",
       "</table>\n",
       "<p>100 rows × 4 columns</p>\n",
       "</div>"
      ],
      "text/plain": [
       "    track_id   type                         name   plays\n",
       "0      53404  track      Smells Like Teen Spirit  111062\n",
       "1   33311009  track                     Believer  106921\n",
       "2     178529  track                         Numb  101924\n",
       "3   35505245  track                   I Got Love   99490\n",
       "4   65851540  track                       Юность   86670\n",
       "..       ...    ...                          ...     ...\n",
       "95   3616433  track           Summertime Sadness   51416\n",
       "96    628970  track  I Hate Everything About You   50262\n",
       "97  27032843  track              Shut Your Mouth   50189\n",
       "98   9282507  track                       Родина   49932\n",
       "99    560468  track                      Варвара   49832\n",
       "\n",
       "[100 rows x 4 columns]"
      ]
     },
     "execution_count": 22,
     "metadata": {},
     "output_type": "execute_result"
    }
   ],
   "source": [
    "# рассчитаем количество пользователей прослушавших трек и отсортируем по прослушиваниям\n",
    "tracks_top = interactions.groupby(\"track_id\").agg(plays=(\"user_id\", 'count')).reset_index() \\\n",
    "    .sort_values(\"plays\", ascending=False)\n",
    "\n",
    "# возьмем топ 100 и добавим к датасету данные о треке\n",
    "top_100_tracks = catalog_names.loc[catalog_names[\"id\"].isin(tracks_top[\"track_id\"].head(100))] \\\n",
    "    .query(\"type == 'track'\") \\\n",
    "    .rename(columns={\"id\": \"track_id\"}) \\\n",
    "    .merge(tracks_top, on=\"track_id\") \\\n",
    "    .sort_values(\"plays\", ascending=False).reset_index(drop=True)\n",
    "    \n",
    "top_100_tracks"
   ]
  },
  {
   "cell_type": "markdown",
   "id": "b1c32a5a-d3be-4f96-8dd9-f7860951020c",
   "metadata": {},
   "source": [
    "Наиболее популярные жанры"
   ]
  },
  {
   "cell_type": "code",
   "execution_count": null,
   "id": "6b0000e9",
   "metadata": {},
   "outputs": [],
   "source": [
    "top_100_tracks = top_100_tracks.merge(tracks[[\"track_id\", \"genres\"]], on=\"track_id\")"
   ]
  },
  {
   "cell_type": "code",
   "execution_count": null,
   "id": "39cac4a0",
   "metadata": {},
   "outputs": [],
   "source": [
    "def get_genres(items):\n",
    "\n",
    "    \"\"\" \n",
    "    извлекает список жанров по каждому треку, \n",
    "    подсчитывает суммарное количество каждого из них\n",
    "    с учетом места в рейтинге\n",
    "    \"\"\"\n",
    "    \n",
    "    genres_counter = {}\n",
    "\n",
    "    for i, s, in items.iterrows():\n",
    "        genres = s[\"genres\"]\n",
    "        for genre in genres:\n",
    "            try:\n",
    "                genres_counter[genre] += 1 - i / len(items)\n",
    "            except KeyError:\n",
    "                genres_counter[genre] = 1 - i / len(items)\n",
    "\n",
    "    genres = pd.Series(genres_counter, name=\"count\")\n",
    "    genres = genres.to_frame().reset_index().rename(columns={\"index\": \"genre_id\"}) \\\n",
    "        .sort_values(\"count\", ascending=False)\n",
    "\n",
    "    return genres"
   ]
  },
  {
   "cell_type": "code",
   "execution_count": null,
   "id": "d141bf7d",
   "metadata": {},
   "outputs": [],
   "source": [
    "# подсчитаем частоту появления жанров в топе\n",
    "genres = get_genres(top_100_tracks)"
   ]
  },
  {
   "cell_type": "code",
   "execution_count": null,
   "id": "834341b4",
   "metadata": {},
   "outputs": [
    {
     "data": {
      "text/html": [
       "<div>\n",
       "<style scoped>\n",
       "    .dataframe tbody tr th:only-of-type {\n",
       "        vertical-align: middle;\n",
       "    }\n",
       "\n",
       "    .dataframe tbody tr th {\n",
       "        vertical-align: top;\n",
       "    }\n",
       "\n",
       "    .dataframe thead th {\n",
       "        text-align: right;\n",
       "    }\n",
       "</style>\n",
       "<table border=\"1\" class=\"dataframe\">\n",
       "  <thead>\n",
       "    <tr style=\"text-align: right;\">\n",
       "      <th></th>\n",
       "      <th>genre_id</th>\n",
       "      <th>count</th>\n",
       "    </tr>\n",
       "  </thead>\n",
       "  <tbody>\n",
       "    <tr>\n",
       "      <th>7</th>\n",
       "      <td>11</td>\n",
       "      <td>15.01</td>\n",
       "    </tr>\n",
       "    <tr>\n",
       "      <th>2</th>\n",
       "      <td>102</td>\n",
       "      <td>12.75</td>\n",
       "    </tr>\n",
       "    <tr>\n",
       "      <th>8</th>\n",
       "      <td>20</td>\n",
       "      <td>10.51</td>\n",
       "    </tr>\n",
       "    <tr>\n",
       "      <th>1</th>\n",
       "      <td>14</td>\n",
       "      <td>9.31</td>\n",
       "    </tr>\n",
       "    <tr>\n",
       "      <th>9</th>\n",
       "      <td>70</td>\n",
       "      <td>5.69</td>\n",
       "    </tr>\n",
       "  </tbody>\n",
       "</table>\n",
       "</div>"
      ],
      "text/plain": [
       "   genre_id  count\n",
       "7        11  15.01\n",
       "2       102  12.75\n",
       "8        20  10.51\n",
       "1        14   9.31\n",
       "9        70   5.69"
      ]
     },
     "execution_count": 26,
     "metadata": {},
     "output_type": "execute_result"
    }
   ],
   "source": [
    "genres.head(5)"
   ]
  },
  {
   "cell_type": "code",
   "execution_count": null,
   "id": "2fb823b2",
   "metadata": {},
   "outputs": [
    {
     "data": {
      "text/html": [
       "<div>\n",
       "<style scoped>\n",
       "    .dataframe tbody tr th:only-of-type {\n",
       "        vertical-align: middle;\n",
       "    }\n",
       "\n",
       "    .dataframe tbody tr th {\n",
       "        vertical-align: top;\n",
       "    }\n",
       "\n",
       "    .dataframe thead th {\n",
       "        text-align: right;\n",
       "    }\n",
       "</style>\n",
       "<table border=\"1\" class=\"dataframe\">\n",
       "  <thead>\n",
       "    <tr style=\"text-align: right;\">\n",
       "      <th></th>\n",
       "      <th>genre_id</th>\n",
       "      <th>type</th>\n",
       "      <th>name</th>\n",
       "      <th>count</th>\n",
       "    </tr>\n",
       "  </thead>\n",
       "  <tbody>\n",
       "    <tr>\n",
       "      <th>0</th>\n",
       "      <td>11</td>\n",
       "      <td>genre</td>\n",
       "      <td>pop</td>\n",
       "      <td>15.01</td>\n",
       "    </tr>\n",
       "    <tr>\n",
       "      <th>1</th>\n",
       "      <td>102</td>\n",
       "      <td>genre</td>\n",
       "      <td>allrock</td>\n",
       "      <td>12.75</td>\n",
       "    </tr>\n",
       "    <tr>\n",
       "      <th>2</th>\n",
       "      <td>20</td>\n",
       "      <td>genre</td>\n",
       "      <td>ruspop</td>\n",
       "      <td>10.51</td>\n",
       "    </tr>\n",
       "    <tr>\n",
       "      <th>3</th>\n",
       "      <td>14</td>\n",
       "      <td>genre</td>\n",
       "      <td>rock</td>\n",
       "      <td>9.31</td>\n",
       "    </tr>\n",
       "    <tr>\n",
       "      <th>4</th>\n",
       "      <td>70</td>\n",
       "      <td>genre</td>\n",
       "      <td>indie</td>\n",
       "      <td>5.69</td>\n",
       "    </tr>\n",
       "    <tr>\n",
       "      <th>5</th>\n",
       "      <td>75</td>\n",
       "      <td>genre</td>\n",
       "      <td>rap</td>\n",
       "      <td>4.75</td>\n",
       "    </tr>\n",
       "    <tr>\n",
       "      <th>6</th>\n",
       "      <td>16</td>\n",
       "      <td>genre</td>\n",
       "      <td>dance</td>\n",
       "      <td>4.58</td>\n",
       "    </tr>\n",
       "    <tr>\n",
       "      <th>7</th>\n",
       "      <td>13</td>\n",
       "      <td>genre</td>\n",
       "      <td>alternative</td>\n",
       "      <td>3.85</td>\n",
       "    </tr>\n",
       "    <tr>\n",
       "      <th>8</th>\n",
       "      <td>3</td>\n",
       "      <td>genre</td>\n",
       "      <td>rusrap</td>\n",
       "      <td>3.78</td>\n",
       "    </tr>\n",
       "    <tr>\n",
       "      <th>9</th>\n",
       "      <td>68</td>\n",
       "      <td>genre</td>\n",
       "      <td>electronics</td>\n",
       "      <td>3.09</td>\n",
       "    </tr>\n",
       "  </tbody>\n",
       "</table>\n",
       "</div>"
      ],
      "text/plain": [
       "   genre_id   type         name  count\n",
       "0        11  genre          pop  15.01\n",
       "1       102  genre      allrock  12.75\n",
       "2        20  genre       ruspop  10.51\n",
       "3        14  genre         rock   9.31\n",
       "4        70  genre        indie   5.69\n",
       "5        75  genre          rap   4.75\n",
       "6        16  genre        dance   4.58\n",
       "7        13  genre  alternative   3.85\n",
       "8         3  genre       rusrap   3.78\n",
       "9        68  genre  electronics   3.09"
      ]
     },
     "execution_count": 27,
     "metadata": {},
     "output_type": "execute_result"
    }
   ],
   "source": [
    "# соединим id жанров с их названиями и выведем топ 10\n",
    "top_10_genres = catalog_names.loc[catalog_names[\"id\"].isin(genres[\"genre_id\"].head(10))] \\\n",
    "    .query(\"type == 'genre'\") \\\n",
    "    .rename(columns={\"id\": \"genre_id\"}) \\\n",
    "    .merge(genres[[\"genre_id\", \"count\"]], on=\"genre_id\") \\\n",
    "    .sort_values(\"count\", ascending=False).reset_index(drop=True)\n",
    "    \n",
    "top_10_genres"
   ]
  },
  {
   "cell_type": "markdown",
   "id": "15254e66-e80e-473b-ba24-abebea5ccac7",
   "metadata": {},
   "source": [
    "Треки, которые никто не прослушал"
   ]
  },
  {
   "cell_type": "code",
   "execution_count": null,
   "id": "50bc50c6-2d83-4c7e-97fa-3e7627978438",
   "metadata": {},
   "outputs": [
    {
     "data": {
      "text/html": [
       "<div>\n",
       "<style scoped>\n",
       "    .dataframe tbody tr th:only-of-type {\n",
       "        vertical-align: middle;\n",
       "    }\n",
       "\n",
       "    .dataframe tbody tr th {\n",
       "        vertical-align: top;\n",
       "    }\n",
       "\n",
       "    .dataframe thead th {\n",
       "        text-align: right;\n",
       "    }\n",
       "</style>\n",
       "<table border=\"1\" class=\"dataframe\">\n",
       "  <thead>\n",
       "    <tr style=\"text-align: right;\">\n",
       "      <th></th>\n",
       "      <th>id</th>\n",
       "      <th>type</th>\n",
       "      <th>name</th>\n",
       "    </tr>\n",
       "  </thead>\n",
       "  <tbody>\n",
       "  </tbody>\n",
       "</table>\n",
       "</div>"
      ],
      "text/plain": [
       "Empty DataFrame\n",
       "Columns: [id, type, name]\n",
       "Index: []"
      ]
     },
     "execution_count": 28,
     "metadata": {},
     "output_type": "execute_result"
    }
   ],
   "source": [
    "catalog_names.loc[~catalog_names[\"id\"].isin(interactions[\"track_id\"])].query(\"type == 'track'\")\n",
    "#Таких треков не обнаружено"
   ]
  },
  {
   "cell_type": "markdown",
   "id": "598b24b4",
   "metadata": {},
   "source": [
    "Проверим, что каждый трек прослушан хотя бы один раз"
   ]
  },
  {
   "cell_type": "code",
   "execution_count": null,
   "id": "4118aa53",
   "metadata": {},
   "outputs": [
    {
     "data": {
      "text/plain": [
       "True"
      ]
     },
     "execution_count": 29,
     "metadata": {},
     "output_type": "execute_result"
    }
   ],
   "source": [
    "interactions[\"track_id\"].nunique() == len(catalog_names.query(\"type == 'track'\")[\"id\"])"
   ]
  },
  {
   "cell_type": "markdown",
   "id": "0d850a07-ef1e-462f-891a-1cf89f2e24ef",
   "metadata": {},
   "source": [
    "# Преобразование данных"
   ]
  },
  {
   "cell_type": "markdown",
   "id": "fabcf8d2-1192-4df5-b20b-fbb84689f57a",
   "metadata": {},
   "source": [
    "Преобразуем данные в формат, более пригодный для дальнейшего использования в расчётах рекомендаций."
   ]
  },
  {
   "cell_type": "code",
   "execution_count": null,
   "id": "a425556a-9382-45ca-a04e-f1981a522126",
   "metadata": {},
   "outputs": [],
   "source": [
    "# добавим названия треков\n",
    "tracks = catalog_names.query(\"type == 'track'\").rename(columns={\"id\": \"track_id\"}).merge(tracks, on=\"track_id\", how='right').drop(columns=\"type\")"
   ]
  },
  {
   "cell_type": "code",
   "execution_count": 5,
   "id": "2ee84865",
   "metadata": {},
   "outputs": [],
   "source": [
    "items = tracks.copy()\n",
    "events = interactions.copy()"
   ]
  },
  {
   "cell_type": "code",
   "execution_count": 6,
   "id": "506f045b",
   "metadata": {},
   "outputs": [],
   "source": [
    "items.rename(columns={\"track_id\": \"item_id\"}, inplace=True)\n",
    "events.rename(columns={\"track_id\": \"item_id\"}, inplace=True)"
   ]
  },
  {
   "cell_type": "code",
   "execution_count": null,
   "id": "eff7fe0b",
   "metadata": {},
   "outputs": [],
   "source": [
    "# перекодируем item_id\n",
    "item_encoder = LabelEncoder()\n",
    "item_encoder.fit(items[\"item_id\"])\n",
    "items[\"item_id_enc\"] = item_encoder.transform(items[\"item_id\"])\n",
    "events[\"item_id_enc\"] = item_encoder.transform(events[\"item_id\"])"
   ]
  },
  {
   "cell_type": "markdown",
   "id": "4d1be653-eed8-4fa0-a9c5-3811b080d71d",
   "metadata": {},
   "source": [
    "# Сохранение данных"
   ]
  },
  {
   "cell_type": "markdown",
   "id": "36f1314a-3af3-4faf-a0b1-3045173d1500",
   "metadata": {},
   "source": [
    "Сохраним данные в двух файлах в персональном S3-бакете по пути `recsys/data/`:\n",
    "- `items.parquet` — все данные о музыкальных треках,\n",
    "- `events.parquet` — все данные о взаимодействиях."
   ]
  },
  {
   "cell_type": "code",
   "execution_count": 8,
   "id": "7c787f46",
   "metadata": {},
   "outputs": [],
   "source": [
    "items.to_parquet(\"items.parquet\")"
   ]
  },
  {
   "cell_type": "code",
   "execution_count": 9,
   "id": "1d52ac80",
   "metadata": {},
   "outputs": [],
   "source": [
    "events.to_parquet(\"events.parquet\")"
   ]
  },
  {
   "cell_type": "markdown",
   "id": "dfc4a21e",
   "metadata": {},
   "source": [
    "Зададим переменные окружения для выгрузки данных в S3 bucket и создадим подключение"
   ]
  },
  {
   "cell_type": "code",
   "execution_count": 10,
   "id": "aaffe2d6",
   "metadata": {},
   "outputs": [],
   "source": [
    "load_dotenv()\n",
    "\n",
    "AWS_ACCESS_KEY_ID = os.getenv(\"AWS_ACCESS_KEY_ID\")\n",
    "AWS_SECRET_ACCESS_KEY = os.getenv(\"AWS_SECRET_ACCESS_KEY\")\n",
    "bucket_name = os.getenv(\"S3_BUCKET_NAME\")\n",
    "url = 'https://storage.yandexcloud.net'\n",
    "\n",
    "session = boto3.Session(\n",
    "    aws_access_key_id=AWS_ACCESS_KEY_ID,\n",
    "    aws_secret_access_key=AWS_SECRET_ACCESS_KEY,\n",
    "    region_name=\"ru-central1\",\n",
    ")\n",
    "\n",
    "s3_client = session.client(\n",
    "    service_name='s3',\n",
    "    endpoint_url=url   \n",
    ")"
   ]
  },
  {
   "cell_type": "code",
   "execution_count": 11,
   "id": "1cf42eaa",
   "metadata": {},
   "outputs": [],
   "source": [
    "s3_client.upload_file(Filename='items.parquet', Bucket=bucket_name, Key='recsys/data/items.parquet')"
   ]
  },
  {
   "cell_type": "code",
   "execution_count": 12,
   "id": "e43db3cd",
   "metadata": {},
   "outputs": [],
   "source": [
    "s3_client.upload_file(Filename='events.parquet', Bucket=bucket_name, Key='recsys/data/events.parquet')"
   ]
  },
  {
   "cell_type": "markdown",
   "id": "72ecbbed-c560-44d9-9c14-86c7dc76f399",
   "metadata": {},
   "source": [
    "# Очистка памяти"
   ]
  },
  {
   "cell_type": "markdown",
   "id": "b5358ede-ba6e-4c4f-bd73-5b9344f0ba79",
   "metadata": {},
   "source": [
    "Здесь, может понадобится очистка памяти для высвобождения ресурсов для выполнения кода ниже. \n",
    "\n",
    "Приведите соответствующие код, комментарии, например:\n",
    "- код для удаление более ненужных переменных,\n",
    "- комментарий, что следует перезапустить kernel, выполнить такие-то начальные секции и продолжить с этапа 3."
   ]
  },
  {
   "cell_type": "markdown",
   "id": "6fb8f844",
   "metadata": {},
   "source": [
    "После выполнения ячейки ниже и перезапуска ядра - необходимо вновь импортировать библиотеки (ячейка 1), далее продолжать с этапа 3"
   ]
  },
  {
   "cell_type": "code",
   "execution_count": 13,
   "id": "767fe920-e12e-4ad8-b04e-56e8091fac9f",
   "metadata": {},
   "outputs": [],
   "source": [
    "del tracks\n",
    "del interactions"
   ]
  },
  {
   "cell_type": "markdown",
   "id": "708503df-ee89-4cf3-8489-093dc478e2a8",
   "metadata": {},
   "source": [
    "# === ЭТАП 3 ==="
   ]
  },
  {
   "cell_type": "markdown",
   "id": "fd77de22-e10f-4b42-85c1-8fb6f805fe68",
   "metadata": {},
   "source": [
    "# Загрузка данных"
   ]
  },
  {
   "cell_type": "markdown",
   "id": "780a4241-1ecd-4a3e-bbb3-fc2f6ca94f68",
   "metadata": {},
   "source": [
    "Если необходимо, то загружаем items.parquet, events.parquet."
   ]
  },
  {
   "cell_type": "code",
   "execution_count": 3,
   "id": "32ed1b2b",
   "metadata": {},
   "outputs": [],
   "source": [
    "load_dotenv()\n",
    "\n",
    "AWS_ACCESS_KEY_ID = os.getenv(\"AWS_ACCESS_KEY_ID\")\n",
    "AWS_SECRET_ACCESS_KEY = os.getenv(\"AWS_SECRET_ACCESS_KEY\")\n",
    "bucket_name = os.getenv(\"S3_BUCKET_NAME\")\n",
    "url = 'https://storage.yandexcloud.net'\n",
    "\n",
    "session = boto3.Session(\n",
    "    aws_access_key_id=AWS_ACCESS_KEY_ID,\n",
    "    aws_secret_access_key=AWS_SECRET_ACCESS_KEY,\n",
    "    region_name=\"ru-central1\",\n",
    ")\n",
    "\n",
    "s3_client = session.client(\n",
    "    service_name='s3',\n",
    "    endpoint_url=url   \n",
    ")"
   ]
  },
  {
   "cell_type": "code",
   "execution_count": 4,
   "id": "f19fc8a5-bd2c-40d7-864a-ee75aca6d512",
   "metadata": {},
   "outputs": [],
   "source": [
    "s3_client.download_file(Bucket=bucket_name, Key='recsys/data/items.parquet', Filename=\"items.parquet\")"
   ]
  },
  {
   "cell_type": "code",
   "execution_count": 16,
   "id": "f9742dbd",
   "metadata": {},
   "outputs": [],
   "source": [
    "s3_client.download_file(Bucket=bucket_name, Key='recsys/data/events.parquet', Filename=\"events.parquet\")"
   ]
  },
  {
   "cell_type": "code",
   "execution_count": 2,
   "id": "5db1e801-5845-4ce3-86f2-c2fa30f68cc5",
   "metadata": {},
   "outputs": [],
   "source": [
    "items = pd.read_parquet(\"items.parquet\")\n",
    "events = pd.read_parquet(\"events.parquet\")"
   ]
  },
  {
   "cell_type": "markdown",
   "id": "a694c023-6477-490b-939d-1cfa6f5f1b72",
   "metadata": {},
   "source": [
    "# Разбиение данных"
   ]
  },
  {
   "cell_type": "markdown",
   "id": "fbd5f6e0-54e7-4428-8678-eabce505d82c",
   "metadata": {},
   "source": [
    "Разбиваем данные на тренировочную, тестовую выборки."
   ]
  },
  {
   "cell_type": "code",
   "execution_count": 3,
   "id": "00c2dfa5-d8a2-47d1-922e-6eefee2c62d1",
   "metadata": {},
   "outputs": [
    {
     "name": "stdout",
     "output_type": "stream",
     "text": [
      "1294970 995485 917234\n"
     ]
    }
   ],
   "source": [
    "# зададим точку разбиения\n",
    "train_test_global_time_split_date = pd.to_datetime(\"2022-12-01\")\n",
    "\n",
    "train_test_global_time_split_idx = events[\"started_at\"] < train_test_global_time_split_date\n",
    "events_train = events[train_test_global_time_split_idx]\n",
    "events_test = events[~train_test_global_time_split_idx]\n",
    "\n",
    "# количество пользователей в train и test\n",
    "users_train = events_train[\"user_id\"].drop_duplicates()\n",
    "users_test = events_test[\"user_id\"].drop_duplicates()\n",
    "# количество пользователей, которые есть и в train, и в test\n",
    "common_users = set(users_train) & set(users_test)\n",
    "\n",
    "print(len(users_train), len(users_test), len(common_users)) "
   ]
  },
  {
   "cell_type": "code",
   "execution_count": null,
   "id": "19a97513",
   "metadata": {},
   "outputs": [
    {
     "name": "stdout",
     "output_type": "stream",
     "text": [
      "78251\n"
     ]
    }
   ],
   "source": [
    "cold_users = users_test[~users_test.isin(users_train)]\n",
    "\n",
    "print(len(cold_users))"
   ]
  },
  {
   "cell_type": "markdown",
   "id": "9131c7e6-8852-4556-b510-51f7253cc299",
   "metadata": {},
   "source": [
    "# Топ популярных"
   ]
  },
  {
   "cell_type": "markdown",
   "id": "dd70d43a-88cc-4719-b291-feaed7136f30",
   "metadata": {},
   "source": [
    "Рассчитаем рекомендации как топ популярных."
   ]
  },
  {
   "cell_type": "code",
   "execution_count": null,
   "id": "ee45e200-b7d6-4f56-9077-aad431689b96",
   "metadata": {},
   "outputs": [
    {
     "data": {
      "text/plain": [
       "0     Blinding Lights\n",
       "1              Юность\n",
       "2           Rampampam\n",
       "3              Птичка\n",
       "4          In The End\n",
       "           ...       \n",
       "95               STAY\n",
       "96                X.O\n",
       "97              Пушка\n",
       "98            Свобода\n",
       "99           По кайфу\n",
       "Name: name, Length: 100, dtype: object"
      ]
     },
     "execution_count": 16,
     "metadata": {},
     "output_type": "execute_result"
    }
   ],
   "source": [
    "top_pop_start_date = pd.to_datetime(\"2022-11-01\") # популярные за последний месяц\n",
    "\n",
    "# рассчитываем количество пользователей прослушавших каждый трек и отсортируем\n",
    "tracks_top = events_train \\\n",
    "    .query(\"started_at >= @top_pop_start_date\") \\\n",
    "    .groupby(\"item_id\").agg(plays=(\"user_id\", 'count')).reset_index() \\\n",
    "    .sort_values(\"plays\", ascending=False)\n",
    "\n",
    "# возьмем топ 100 и добавим к датасету данные о треке\n",
    "top_100_tracks = items.loc[items[\"item_id\"].isin(tracks_top[\"item_id\"].head(100))] \\\n",
    "    .merge(tracks_top, on=\"item_id\") \\\n",
    "    .sort_values(\"plays\", ascending=False).reset_index(drop=True)\n",
    "    \n",
    "top_100_tracks[\"name\"]"
   ]
  },
  {
   "cell_type": "code",
   "execution_count": 17,
   "id": "bd3a9dfa",
   "metadata": {},
   "outputs": [],
   "source": [
    "top_100_tracks.to_parquet(\"top_popular.parquet\")"
   ]
  },
  {
   "cell_type": "code",
   "execution_count": 5,
   "id": "7aeaad5d",
   "metadata": {},
   "outputs": [],
   "source": [
    "s3_client.upload_file(Filename='top_popular.parquet', Bucket=bucket_name, Key='recsys/recommendations/top_popular.parquet')"
   ]
  },
  {
   "cell_type": "markdown",
   "id": "2ad231f2-6158-421a-b7fa-01d8bc3ed572",
   "metadata": {},
   "source": [
    "# Персональные"
   ]
  },
  {
   "cell_type": "markdown",
   "id": "86159460-cd9d-4b63-8248-604ea3c9aebf",
   "metadata": {},
   "source": [
    "Рассчитаем персональные рекомендации."
   ]
  },
  {
   "cell_type": "code",
   "execution_count": null,
   "id": "9a52f797",
   "metadata": {},
   "outputs": [],
   "source": [
    "# создаём sparse-матрицу формата CSR для экономии памяти\n",
    "user_item_matrix_train = scipy.sparse.csr_matrix((\n",
    "    events_train[\"track_seq\"],\n",
    "    (events_train['user_id'], events_train['item_id_enc'])),\n",
    "    dtype=np.int8) "
   ]
  },
  {
   "cell_type": "markdown",
   "id": "bb36cfe8",
   "metadata": {},
   "source": [
    "Обучаем ALS-модель на построенной матрице"
   ]
  },
  {
   "cell_type": "code",
   "execution_count": 5,
   "id": "d2944822-569c-4f9b-82dc-70a7fa2d542e",
   "metadata": {},
   "outputs": [
    {
     "name": "stderr",
     "output_type": "stream",
     "text": [
      "/home/mle-user/mle-recsys-project/.venv_recsys-project/lib/python3.10/site-packages/implicit/cpu/als.py:95: RuntimeWarning: OpenBLAS is configured to use 4 threads. It is highly recommended to disable its internal threadpool by setting the environment variable 'OPENBLAS_NUM_THREADS=1' or by calling 'threadpoolctl.threadpool_limits(1, \"blas\")'. Having OpenBLAS use a threadpool can lead to severe performance issues here.\n",
      "  check_blas_config()\n",
      "100%|██████████| 10/10 [05:02<00:00, 30.24s/it]\n"
     ]
    }
   ],
   "source": [
    "als_model = AlternatingLeastSquares(factors=10, iterations=10, regularization=0.05, random_state=0)\n",
    "als_model.fit(user_item_matrix_train)"
   ]
  },
  {
   "cell_type": "code",
   "execution_count": null,
   "id": "b60484a0",
   "metadata": {},
   "outputs": [
    {
     "data": {
      "text/html": [
       "<style>#sk-container-id-1 {color: black;}#sk-container-id-1 pre{padding: 0;}#sk-container-id-1 div.sk-toggleable {background-color: white;}#sk-container-id-1 label.sk-toggleable__label {cursor: pointer;display: block;width: 100%;margin-bottom: 0;padding: 0.3em;box-sizing: border-box;text-align: center;}#sk-container-id-1 label.sk-toggleable__label-arrow:before {content: \"▸\";float: left;margin-right: 0.25em;color: #696969;}#sk-container-id-1 label.sk-toggleable__label-arrow:hover:before {color: black;}#sk-container-id-1 div.sk-estimator:hover label.sk-toggleable__label-arrow:before {color: black;}#sk-container-id-1 div.sk-toggleable__content {max-height: 0;max-width: 0;overflow: hidden;text-align: left;background-color: #f0f8ff;}#sk-container-id-1 div.sk-toggleable__content pre {margin: 0.2em;color: black;border-radius: 0.25em;background-color: #f0f8ff;}#sk-container-id-1 input.sk-toggleable__control:checked~div.sk-toggleable__content {max-height: 200px;max-width: 100%;overflow: auto;}#sk-container-id-1 input.sk-toggleable__control:checked~label.sk-toggleable__label-arrow:before {content: \"▾\";}#sk-container-id-1 div.sk-estimator input.sk-toggleable__control:checked~label.sk-toggleable__label {background-color: #d4ebff;}#sk-container-id-1 div.sk-label input.sk-toggleable__control:checked~label.sk-toggleable__label {background-color: #d4ebff;}#sk-container-id-1 input.sk-hidden--visually {border: 0;clip: rect(1px 1px 1px 1px);clip: rect(1px, 1px, 1px, 1px);height: 1px;margin: -1px;overflow: hidden;padding: 0;position: absolute;width: 1px;}#sk-container-id-1 div.sk-estimator {font-family: monospace;background-color: #f0f8ff;border: 1px dotted black;border-radius: 0.25em;box-sizing: border-box;margin-bottom: 0.5em;}#sk-container-id-1 div.sk-estimator:hover {background-color: #d4ebff;}#sk-container-id-1 div.sk-parallel-item::after {content: \"\";width: 100%;border-bottom: 1px solid gray;flex-grow: 1;}#sk-container-id-1 div.sk-label:hover label.sk-toggleable__label {background-color: #d4ebff;}#sk-container-id-1 div.sk-serial::before {content: \"\";position: absolute;border-left: 1px solid gray;box-sizing: border-box;top: 0;bottom: 0;left: 50%;z-index: 0;}#sk-container-id-1 div.sk-serial {display: flex;flex-direction: column;align-items: center;background-color: white;padding-right: 0.2em;padding-left: 0.2em;position: relative;}#sk-container-id-1 div.sk-item {position: relative;z-index: 1;}#sk-container-id-1 div.sk-parallel {display: flex;align-items: stretch;justify-content: center;background-color: white;position: relative;}#sk-container-id-1 div.sk-item::before, #sk-container-id-1 div.sk-parallel-item::before {content: \"\";position: absolute;border-left: 1px solid gray;box-sizing: border-box;top: 0;bottom: 0;left: 50%;z-index: -1;}#sk-container-id-1 div.sk-parallel-item {display: flex;flex-direction: column;z-index: 1;position: relative;background-color: white;}#sk-container-id-1 div.sk-parallel-item:first-child::after {align-self: flex-end;width: 50%;}#sk-container-id-1 div.sk-parallel-item:last-child::after {align-self: flex-start;width: 50%;}#sk-container-id-1 div.sk-parallel-item:only-child::after {width: 0;}#sk-container-id-1 div.sk-dashed-wrapped {border: 1px dashed gray;margin: 0 0.4em 0.5em 0.4em;box-sizing: border-box;padding-bottom: 0.4em;background-color: white;}#sk-container-id-1 div.sk-label label {font-family: monospace;font-weight: bold;display: inline-block;line-height: 1.2em;}#sk-container-id-1 div.sk-label-container {text-align: center;}#sk-container-id-1 div.sk-container {/* jupyter's `normalize.less` sets `[hidden] { display: none; }` but bootstrap.min.css set `[hidden] { display: none !important; }` so we also need the `!important` here to be able to override the default hidden behavior on the sphinx rendered scikit-learn.org. See: https://github.com/scikit-learn/scikit-learn/issues/21755 */display: inline-block !important;position: relative;}#sk-container-id-1 div.sk-text-repr-fallback {display: none;}</style><div id=\"sk-container-id-1\" class=\"sk-top-container\"><div class=\"sk-text-repr-fallback\"><pre>LabelEncoder()</pre><b>In a Jupyter environment, please rerun this cell to show the HTML representation or trust the notebook. <br />On GitHub, the HTML representation is unable to render, please try loading this page with nbviewer.org.</b></div><div class=\"sk-container\" hidden><div class=\"sk-item\"><div class=\"sk-estimator sk-toggleable\"><input class=\"sk-toggleable__control sk-hidden--visually\" id=\"sk-estimator-id-1\" type=\"checkbox\" checked><label for=\"sk-estimator-id-1\" class=\"sk-toggleable__label sk-toggleable__label-arrow\">LabelEncoder</label><div class=\"sk-toggleable__content\"><pre>LabelEncoder()</pre></div></div></div></div></div>"
      ],
      "text/plain": [
       "LabelEncoder()"
      ]
     },
     "execution_count": 13,
     "metadata": {},
     "output_type": "execute_result"
    }
   ],
   "source": [
    "# повторно определим кодировщик для обратного перекодирования рекоммендаций\n",
    "item_encoder = LabelEncoder()\n",
    "item_encoder.fit(items[\"item_id\"])"
   ]
  },
  {
   "cell_type": "code",
   "execution_count": 23,
   "id": "1e8cdb58-3a8c-45ad-8e5f-7f950314aa56",
   "metadata": {},
   "outputs": [],
   "source": [
    "def get_recommendations_als(user_item_matrix, model, user_id, include_seen=True, n=5):\n",
    "    \"\"\"\n",
    "    Возвращает отранжированные рекомендации для заданного пользователя\n",
    "    \"\"\"\n",
    "    recommendations = model.recommend(\n",
    "         user_id, \n",
    "         user_item_matrix[user_id], \n",
    "         filter_already_liked_items=not include_seen,\n",
    "         N=n)\n",
    "    recommendations = pd.DataFrame({\"item_id_enc\": recommendations[0], \"score\": recommendations[1]})\n",
    "    recommendations[\"item_id\"] = item_encoder.inverse_transform(recommendations[\"item_id_enc\"])\n",
    "    \n",
    "    return recommendations"
   ]
  },
  {
   "cell_type": "code",
   "execution_count": null,
   "id": "42171566",
   "metadata": {},
   "outputs": [],
   "source": [
    "# определим матрицу для тестирования\n",
    "user_item_matrix_test = scipy.sparse.csr_matrix((\n",
    "    events_test[\"track_seq\"],\n",
    "    (events_test['user_id'], events_test['item_id_enc'])),\n",
    "    dtype=np.int8) "
   ]
  },
  {
   "cell_type": "code",
   "execution_count": 25,
   "id": "f4e83f4e",
   "metadata": {},
   "outputs": [
    {
     "data": {
      "text/html": [
       "<div>\n",
       "<style scoped>\n",
       "    .dataframe tbody tr th:only-of-type {\n",
       "        vertical-align: middle;\n",
       "    }\n",
       "\n",
       "    .dataframe tbody tr th {\n",
       "        vertical-align: top;\n",
       "    }\n",
       "\n",
       "    .dataframe thead th {\n",
       "        text-align: right;\n",
       "    }\n",
       "</style>\n",
       "<table border=\"1\" class=\"dataframe\">\n",
       "  <thead>\n",
       "    <tr style=\"text-align: right;\">\n",
       "      <th></th>\n",
       "      <th>item_id_enc</th>\n",
       "      <th>score</th>\n",
       "      <th>item_id</th>\n",
       "    </tr>\n",
       "  </thead>\n",
       "  <tbody>\n",
       "    <tr>\n",
       "      <th>0</th>\n",
       "      <td>9098</td>\n",
       "      <td>0.771684</td>\n",
       "      <td>53404</td>\n",
       "    </tr>\n",
       "    <tr>\n",
       "      <th>1</th>\n",
       "      <td>23706</td>\n",
       "      <td>0.749681</td>\n",
       "      <td>148345</td>\n",
       "    </tr>\n",
       "    <tr>\n",
       "      <th>2</th>\n",
       "      <td>29336</td>\n",
       "      <td>0.740149</td>\n",
       "      <td>214489</td>\n",
       "    </tr>\n",
       "    <tr>\n",
       "      <th>3</th>\n",
       "      <td>15643</td>\n",
       "      <td>0.727186</td>\n",
       "      <td>96089</td>\n",
       "    </tr>\n",
       "    <tr>\n",
       "      <th>4</th>\n",
       "      <td>26232</td>\n",
       "      <td>0.719002</td>\n",
       "      <td>170051</td>\n",
       "    </tr>\n",
       "  </tbody>\n",
       "</table>\n",
       "</div>"
      ],
      "text/plain": [
       "   item_id_enc     score  item_id\n",
       "0         9098  0.771684    53404\n",
       "1        23706  0.749681   148345\n",
       "2        29336  0.740149   214489\n",
       "3        15643  0.727186    96089\n",
       "4        26232  0.719002   170051"
      ]
     },
     "execution_count": 25,
     "metadata": {},
     "output_type": "execute_result"
    }
   ],
   "source": [
    "get_recommendations_als(user_item_matrix_test, als_model, 4, include_seen=True)"
   ]
  },
  {
   "cell_type": "code",
   "execution_count": null,
   "id": "47d5ce73",
   "metadata": {},
   "outputs": [],
   "source": [
    "# получаем список всех возможных user_id из events_train\n",
    "user_ids = events_train[\"user_id\"].unique()\n",
    "\n",
    "# получаем рекомендации для всех пользователей\n",
    "als_recommendations = als_model.recommend(\n",
    "    user_ids, \n",
    "    user_item_matrix_train[user_ids], \n",
    "    filter_already_liked_items=True, N=5)"
   ]
  },
  {
   "cell_type": "code",
   "execution_count": 29,
   "id": "210827f8",
   "metadata": {},
   "outputs": [
    {
     "ename": "KeyError",
     "evalue": "0",
     "output_type": "error",
     "traceback": [
      "\u001b[0;31m---------------------------------------------------------------------------\u001b[0m",
      "\u001b[0;31mKeyError\u001b[0m                                  Traceback (most recent call last)",
      "File \u001b[0;32m~/mle-recsys-project/.venv_recsys-project/lib/python3.10/site-packages/pandas/core/indexes/base.py:3790\u001b[0m, in \u001b[0;36mIndex.get_loc\u001b[0;34m(self, key)\u001b[0m\n\u001b[1;32m   3789\u001b[0m \u001b[38;5;28;01mtry\u001b[39;00m:\n\u001b[0;32m-> 3790\u001b[0m     \u001b[38;5;28;01mreturn\u001b[39;00m \u001b[38;5;28;43mself\u001b[39;49m\u001b[38;5;241;43m.\u001b[39;49m\u001b[43m_engine\u001b[49m\u001b[38;5;241;43m.\u001b[39;49m\u001b[43mget_loc\u001b[49m\u001b[43m(\u001b[49m\u001b[43mcasted_key\u001b[49m\u001b[43m)\u001b[49m\n\u001b[1;32m   3791\u001b[0m \u001b[38;5;28;01mexcept\u001b[39;00m \u001b[38;5;167;01mKeyError\u001b[39;00m \u001b[38;5;28;01mas\u001b[39;00m err:\n",
      "File \u001b[0;32mindex.pyx:152\u001b[0m, in \u001b[0;36mpandas._libs.index.IndexEngine.get_loc\u001b[0;34m()\u001b[0m\n",
      "File \u001b[0;32mindex.pyx:181\u001b[0m, in \u001b[0;36mpandas._libs.index.IndexEngine.get_loc\u001b[0;34m()\u001b[0m\n",
      "File \u001b[0;32mpandas/_libs/hashtable_class_helper.pxi:7080\u001b[0m, in \u001b[0;36mpandas._libs.hashtable.PyObjectHashTable.get_item\u001b[0;34m()\u001b[0m\n",
      "File \u001b[0;32mpandas/_libs/hashtable_class_helper.pxi:7088\u001b[0m, in \u001b[0;36mpandas._libs.hashtable.PyObjectHashTable.get_item\u001b[0;34m()\u001b[0m\n",
      "\u001b[0;31mKeyError\u001b[0m: 0",
      "\nThe above exception was the direct cause of the following exception:\n",
      "\u001b[0;31mKeyError\u001b[0m                                  Traceback (most recent call last)",
      "Cell \u001b[0;32mIn[29], line 2\u001b[0m\n\u001b[1;32m      1\u001b[0m \u001b[38;5;66;03m# преобразуем полученные рекомендации в табличный формат\u001b[39;00m\n\u001b[0;32m----> 2\u001b[0m item_ids_enc \u001b[38;5;241m=\u001b[39m \u001b[43mals_recommendations\u001b[49m\u001b[43m[\u001b[49m\u001b[38;5;241;43m0\u001b[39;49m\u001b[43m]\u001b[49m\n\u001b[1;32m      3\u001b[0m als_scores \u001b[38;5;241m=\u001b[39m als_recommendations[\u001b[38;5;241m1\u001b[39m]\n\u001b[1;32m      5\u001b[0m als_recommendations \u001b[38;5;241m=\u001b[39m pd\u001b[38;5;241m.\u001b[39mDataFrame({\n\u001b[1;32m      6\u001b[0m     \u001b[38;5;124m\"\u001b[39m\u001b[38;5;124muser_id\u001b[39m\u001b[38;5;124m\"\u001b[39m: user_ids,\n\u001b[1;32m      7\u001b[0m     \u001b[38;5;124m\"\u001b[39m\u001b[38;5;124mitem_id_enc\u001b[39m\u001b[38;5;124m\"\u001b[39m: item_ids_enc\u001b[38;5;241m.\u001b[39mtolist(), \n\u001b[1;32m      8\u001b[0m     \u001b[38;5;124m\"\u001b[39m\u001b[38;5;124mscore\u001b[39m\u001b[38;5;124m\"\u001b[39m: als_scores\u001b[38;5;241m.\u001b[39mtolist()})\n",
      "File \u001b[0;32m~/mle-recsys-project/.venv_recsys-project/lib/python3.10/site-packages/pandas/core/frame.py:3896\u001b[0m, in \u001b[0;36mDataFrame.__getitem__\u001b[0;34m(self, key)\u001b[0m\n\u001b[1;32m   3894\u001b[0m \u001b[38;5;28;01mif\u001b[39;00m \u001b[38;5;28mself\u001b[39m\u001b[38;5;241m.\u001b[39mcolumns\u001b[38;5;241m.\u001b[39mnlevels \u001b[38;5;241m>\u001b[39m \u001b[38;5;241m1\u001b[39m:\n\u001b[1;32m   3895\u001b[0m     \u001b[38;5;28;01mreturn\u001b[39;00m \u001b[38;5;28mself\u001b[39m\u001b[38;5;241m.\u001b[39m_getitem_multilevel(key)\n\u001b[0;32m-> 3896\u001b[0m indexer \u001b[38;5;241m=\u001b[39m \u001b[38;5;28;43mself\u001b[39;49m\u001b[38;5;241;43m.\u001b[39;49m\u001b[43mcolumns\u001b[49m\u001b[38;5;241;43m.\u001b[39;49m\u001b[43mget_loc\u001b[49m\u001b[43m(\u001b[49m\u001b[43mkey\u001b[49m\u001b[43m)\u001b[49m\n\u001b[1;32m   3897\u001b[0m \u001b[38;5;28;01mif\u001b[39;00m is_integer(indexer):\n\u001b[1;32m   3898\u001b[0m     indexer \u001b[38;5;241m=\u001b[39m [indexer]\n",
      "File \u001b[0;32m~/mle-recsys-project/.venv_recsys-project/lib/python3.10/site-packages/pandas/core/indexes/base.py:3797\u001b[0m, in \u001b[0;36mIndex.get_loc\u001b[0;34m(self, key)\u001b[0m\n\u001b[1;32m   3792\u001b[0m     \u001b[38;5;28;01mif\u001b[39;00m \u001b[38;5;28misinstance\u001b[39m(casted_key, \u001b[38;5;28mslice\u001b[39m) \u001b[38;5;129;01mor\u001b[39;00m (\n\u001b[1;32m   3793\u001b[0m         \u001b[38;5;28misinstance\u001b[39m(casted_key, abc\u001b[38;5;241m.\u001b[39mIterable)\n\u001b[1;32m   3794\u001b[0m         \u001b[38;5;129;01mand\u001b[39;00m \u001b[38;5;28many\u001b[39m(\u001b[38;5;28misinstance\u001b[39m(x, \u001b[38;5;28mslice\u001b[39m) \u001b[38;5;28;01mfor\u001b[39;00m x \u001b[38;5;129;01min\u001b[39;00m casted_key)\n\u001b[1;32m   3795\u001b[0m     ):\n\u001b[1;32m   3796\u001b[0m         \u001b[38;5;28;01mraise\u001b[39;00m InvalidIndexError(key)\n\u001b[0;32m-> 3797\u001b[0m     \u001b[38;5;28;01mraise\u001b[39;00m \u001b[38;5;167;01mKeyError\u001b[39;00m(key) \u001b[38;5;28;01mfrom\u001b[39;00m \u001b[38;5;21;01merr\u001b[39;00m\n\u001b[1;32m   3798\u001b[0m \u001b[38;5;28;01mexcept\u001b[39;00m \u001b[38;5;167;01mTypeError\u001b[39;00m:\n\u001b[1;32m   3799\u001b[0m     \u001b[38;5;66;03m# If we have a listlike key, _check_indexing_error will raise\u001b[39;00m\n\u001b[1;32m   3800\u001b[0m     \u001b[38;5;66;03m#  InvalidIndexError. Otherwise we fall through and re-raise\u001b[39;00m\n\u001b[1;32m   3801\u001b[0m     \u001b[38;5;66;03m#  the TypeError.\u001b[39;00m\n\u001b[1;32m   3802\u001b[0m     \u001b[38;5;28mself\u001b[39m\u001b[38;5;241m.\u001b[39m_check_indexing_error(key)\n",
      "\u001b[0;31mKeyError\u001b[0m: 0"
     ]
    }
   ],
   "source": [
    "# преобразуем полученные рекомендации в табличный формат\n",
    "item_ids_enc = als_recommendations[0]\n",
    "als_scores = als_recommendations[1]\n",
    "\n",
    "als_recommendations = pd.DataFrame({\n",
    "    \"user_id\": user_ids,\n",
    "    \"item_id_enc\": item_ids_enc.tolist(), \n",
    "    \"score\": als_scores.tolist()})\n",
    "als_recommendations = als_recommendations.explode([\"item_id_enc\", \"score\"], ignore_index=True)\n",
    "\n",
    "# приводим типы данных\n",
    "als_recommendations[\"item_id_enc\"] = als_recommendations[\"item_id_enc\"].astype(\"int\")\n",
    "als_recommendations[\"score\"] = als_recommendations[\"score\"].astype(\"float\")"
   ]
  },
  {
   "cell_type": "code",
   "execution_count": 12,
   "id": "245c2df9",
   "metadata": {},
   "outputs": [],
   "source": [
    "# получаем изначальные идентификаторы\n",
    "als_recommendations[\"item_id\"] = item_encoder.inverse_transform(als_recommendations[\"item_id_enc\"])\n",
    "als_recommendations = als_recommendations.drop(columns=\"item_id_enc\")"
   ]
  },
  {
   "cell_type": "code",
   "execution_count": null,
   "id": "51a50e51",
   "metadata": {},
   "outputs": [],
   "source": [
    "als_recommendations.to_parquet(\"personal_als.parquet\")"
   ]
  },
  {
   "cell_type": "code",
   "execution_count": 7,
   "id": "c7195359",
   "metadata": {},
   "outputs": [],
   "source": [
    "s3_client.upload_file(Filename=\"personal_als.parquet\", Bucket=bucket_name, Key='recsys/recommendations/personal_als.parquet')"
   ]
  },
  {
   "cell_type": "markdown",
   "id": "5f09dc7e-7c91-4355-860a-b9cfb9f33f15",
   "metadata": {},
   "source": [
    "# Похожие"
   ]
  },
  {
   "cell_type": "markdown",
   "id": "1dfcb683-b440-40a8-9975-894156a53872",
   "metadata": {},
   "source": [
    "Рассчитаем похожие, они позже пригодятся для онлайн-рекомендаций."
   ]
  },
  {
   "cell_type": "code",
   "execution_count": null,
   "id": "a75d07ee-4b12-4ce5-aa85-e45cb7a7a4f0",
   "metadata": {},
   "outputs": [],
   "source": [
    "# получим перекодированные идентификаторы всех объектов, известных нам из events_train\n",
    "train_item_ids_enc = events_train['item_id_enc'].unique()\n",
    "\n",
    "max_similar_items = 5\n",
    "\n",
    "# получаем списки похожих объектов, используя ранее полученную ALS-модель\n",
    "# метод similar_items возвращает и сам объект, как наиболее похожий\n",
    "# этот объект мы позже отфильтруем, но сейчас запросим на 1 больше\n",
    "similar_items = als_model.similar_items(train_item_ids_enc, N=max_similar_items+1)\n",
    "\n",
    "# преобразуем полученные списки в табличный формат\n",
    "sim_item_item_ids_enc = similar_items[0]\n",
    "sim_item_scores = similar_items[1]\n",
    "\n",
    "similar_items = pd.DataFrame({\n",
    "    \"item_id_enc\": train_item_ids_enc,\n",
    "    \"sim_item_id_enc\": sim_item_item_ids_enc.tolist(), \n",
    "    \"score\": sim_item_scores.tolist()\n",
    "})\n",
    "similar_items = similar_items.explode([\"sim_item_id_enc\", \"score\"], ignore_index=True)\n",
    "\n",
    "# приводим типы данных\n",
    "similar_items[\"sim_item_id_enc\"] = similar_items[\"sim_item_id_enc\"].astype(\"int\")\n",
    "similar_items[\"score\"] = similar_items[\"score\"].astype(\"float\")\n",
    "\n",
    "# получаем изначальные идентификаторы\n",
    "similar_items[\"item_id_1\"] = item_encoder.inverse_transform(similar_items[\"item_id_enc\"])\n",
    "similar_items[\"item_id_2\"] = item_encoder.inverse_transform(similar_items[\"sim_item_id_enc\"])\n",
    "similar_items = similar_items.drop(columns=[\"item_id_enc\", \"sim_item_id_enc\"])\n",
    "\n",
    "# убираем пары с одинаковыми объектами\n",
    "similar_items = similar_items.query(\"item_id_1 != item_id_2\") "
   ]
  },
  {
   "cell_type": "code",
   "execution_count": 35,
   "id": "ce370904-4c49-4152-8706-416074ea9b9a",
   "metadata": {},
   "outputs": [],
   "source": [
    "similar_items.to_parquet(\"similar.parquet\")"
   ]
  },
  {
   "cell_type": "code",
   "execution_count": 8,
   "id": "76843cec",
   "metadata": {},
   "outputs": [],
   "source": [
    "s3_client.upload_file(Filename=\"similar.parquet\", Bucket=bucket_name, Key='recsys/recommendations/similar.parquet')"
   ]
  },
  {
   "cell_type": "markdown",
   "id": "0087a3e7-ca9f-42cd-944c-944222c1baef",
   "metadata": {},
   "source": [
    "# Построение признаков"
   ]
  },
  {
   "cell_type": "markdown",
   "id": "e82a32e1-b90b-4eaf-9439-fc8deab9f34b",
   "metadata": {},
   "source": [
    "Построим три признака, можно больше, для ранжирующей модели."
   ]
  },
  {
   "cell_type": "code",
   "execution_count": 4,
   "id": "05b4ae84-406a-44a4-abec-4f80f93e3004",
   "metadata": {},
   "outputs": [],
   "source": [
    "def get_user_features(event):\n",
    "    \n",
    "    \"\"\" считает пользовательские признаки \"\"\"\n",
    "    \n",
    "    user_features = event.groupby(\"user_id\").agg(\n",
    "        listening_period=(\"started_at\", lambda x: (x.max()-x.min()).days),\n",
    "        tracks_listened=(\"item_id\", \"count\")\n",
    "    )\n",
    "    \n",
    "    user_features[\"tracks_per_month\"] = user_features[\"tracks_listened\"] / (user_features[\"listening_period\"] / 30)\n",
    "    \n",
    "    return user_features\n"
   ]
  },
  {
   "cell_type": "code",
   "execution_count": 5,
   "id": "6864d297",
   "metadata": {},
   "outputs": [
    {
     "data": {
      "text/html": [
       "<div>\n",
       "<style scoped>\n",
       "    .dataframe tbody tr th:only-of-type {\n",
       "        vertical-align: middle;\n",
       "    }\n",
       "\n",
       "    .dataframe tbody tr th {\n",
       "        vertical-align: top;\n",
       "    }\n",
       "\n",
       "    .dataframe thead th {\n",
       "        text-align: right;\n",
       "    }\n",
       "</style>\n",
       "<table border=\"1\" class=\"dataframe\">\n",
       "  <thead>\n",
       "    <tr style=\"text-align: right;\">\n",
       "      <th></th>\n",
       "      <th>listening_period</th>\n",
       "      <th>tracks_listened</th>\n",
       "      <th>tracks_per_month</th>\n",
       "    </tr>\n",
       "    <tr>\n",
       "      <th>user_id</th>\n",
       "      <th></th>\n",
       "      <th></th>\n",
       "      <th></th>\n",
       "    </tr>\n",
       "  </thead>\n",
       "  <tbody>\n",
       "    <tr>\n",
       "      <th>0</th>\n",
       "      <td>60</td>\n",
       "      <td>26</td>\n",
       "      <td>13.000000</td>\n",
       "    </tr>\n",
       "    <tr>\n",
       "      <th>1</th>\n",
       "      <td>47</td>\n",
       "      <td>36</td>\n",
       "      <td>22.978723</td>\n",
       "    </tr>\n",
       "    <tr>\n",
       "      <th>2</th>\n",
       "      <td>137</td>\n",
       "      <td>14</td>\n",
       "      <td>3.065693</td>\n",
       "    </tr>\n",
       "    <tr>\n",
       "      <th>3</th>\n",
       "      <td>266</td>\n",
       "      <td>31</td>\n",
       "      <td>3.496241</td>\n",
       "    </tr>\n",
       "    <tr>\n",
       "      <th>4</th>\n",
       "      <td>245</td>\n",
       "      <td>231</td>\n",
       "      <td>28.285714</td>\n",
       "    </tr>\n",
       "    <tr>\n",
       "      <th>...</th>\n",
       "      <td>...</td>\n",
       "      <td>...</td>\n",
       "      <td>...</td>\n",
       "    </tr>\n",
       "    <tr>\n",
       "      <th>1374578</th>\n",
       "      <td>115</td>\n",
       "      <td>7</td>\n",
       "      <td>1.826087</td>\n",
       "    </tr>\n",
       "    <tr>\n",
       "      <th>1374579</th>\n",
       "      <td>62</td>\n",
       "      <td>24</td>\n",
       "      <td>11.612903</td>\n",
       "    </tr>\n",
       "    <tr>\n",
       "      <th>1374580</th>\n",
       "      <td>209</td>\n",
       "      <td>277</td>\n",
       "      <td>39.760766</td>\n",
       "    </tr>\n",
       "    <tr>\n",
       "      <th>1374581</th>\n",
       "      <td>231</td>\n",
       "      <td>453</td>\n",
       "      <td>58.831169</td>\n",
       "    </tr>\n",
       "    <tr>\n",
       "      <th>1374582</th>\n",
       "      <td>23</td>\n",
       "      <td>132</td>\n",
       "      <td>172.173913</td>\n",
       "    </tr>\n",
       "  </tbody>\n",
       "</table>\n",
       "<p>1294970 rows × 3 columns</p>\n",
       "</div>"
      ],
      "text/plain": [
       "         listening_period  tracks_listened  tracks_per_month\n",
       "user_id                                                     \n",
       "0                      60               26         13.000000\n",
       "1                      47               36         22.978723\n",
       "2                     137               14          3.065693\n",
       "3                     266               31          3.496241\n",
       "4                     245              231         28.285714\n",
       "...                   ...              ...               ...\n",
       "1374578               115                7          1.826087\n",
       "1374579                62               24         11.612903\n",
       "1374580               209              277         39.760766\n",
       "1374581               231              453         58.831169\n",
       "1374582                23              132        172.173913\n",
       "\n",
       "[1294970 rows x 3 columns]"
      ]
     },
     "execution_count": 5,
     "metadata": {},
     "output_type": "execute_result"
    }
   ],
   "source": [
    "user_features_for_train = get_user_features(events_train)\n",
    "user_features_for_train"
   ]
  },
  {
   "cell_type": "markdown",
   "id": "47bcf88d-b236-46f0-a6f3-38ddd64895fe",
   "metadata": {},
   "source": [
    "# Ранжирование рекомендаций"
   ]
  },
  {
   "cell_type": "markdown",
   "id": "e8cd8223-3418-4493-8c87-1f76286ebda0",
   "metadata": {},
   "source": [
    "Построим ранжирующую модель, чтобы сделать рекомендации более точными. Отранжируем рекомендации."
   ]
  },
  {
   "cell_type": "code",
   "execution_count": 5,
   "id": "79f1dd92-32a9-463d-827e-8bb9ee5bbb54",
   "metadata": {},
   "outputs": [],
   "source": [
    "# задаём точку разбиения\n",
    "split_date_for_labels = pd.to_datetime(\"2022-12-15\")\n",
    "\n",
    "split_date_for_labels_idx = events_test[\"started_at\"] < split_date_for_labels\n",
    "events_labels = events_test[split_date_for_labels_idx].copy()\n",
    "events_test_2 = events_test[~split_date_for_labels_idx].copy()"
   ]
  },
  {
   "cell_type": "code",
   "execution_count": 4,
   "id": "9c3dc3a2",
   "metadata": {},
   "outputs": [],
   "source": [
    "# загружаем рекомендации от базового генератора\n",
    "als_recommendations = pd.read_parquet(\"personal_als.parquet\")"
   ]
  },
  {
   "cell_type": "code",
   "execution_count": null,
   "id": "6dbe4db4-1ac5-44da-a13c-8e7f9768ab73",
   "metadata": {},
   "outputs": [],
   "source": [
    "# добавляем сгенерированные признаки в датасет\n",
    "candidates = pd.merge(\n",
    "    als_recommendations[[\"user_id\", \"item_id\", \"score\"]].rename(columns={\"score\": \"als_score\"}),\n",
    "    user_features_for_train,\n",
    "    on=\"user_id\",\n",
    "    how=\"left\")"
   ]
  },
  {
   "cell_type": "code",
   "execution_count": 79,
   "id": "0ba0a3c7",
   "metadata": {},
   "outputs": [
    {
     "data": {
      "text/html": [
       "<div>\n",
       "<style scoped>\n",
       "    .dataframe tbody tr th:only-of-type {\n",
       "        vertical-align: middle;\n",
       "    }\n",
       "\n",
       "    .dataframe tbody tr th {\n",
       "        vertical-align: top;\n",
       "    }\n",
       "\n",
       "    .dataframe thead th {\n",
       "        text-align: right;\n",
       "    }\n",
       "</style>\n",
       "<table border=\"1\" class=\"dataframe\">\n",
       "  <thead>\n",
       "    <tr style=\"text-align: right;\">\n",
       "      <th></th>\n",
       "      <th>user_id</th>\n",
       "      <th>item_id</th>\n",
       "      <th>als_score</th>\n",
       "      <th>listening_period</th>\n",
       "      <th>tracks_listened</th>\n",
       "      <th>tracks_per_month</th>\n",
       "    </tr>\n",
       "  </thead>\n",
       "  <tbody>\n",
       "    <tr>\n",
       "      <th>0</th>\n",
       "      <td>0</td>\n",
       "      <td>17352611</td>\n",
       "      <td>0.057886</td>\n",
       "      <td>60</td>\n",
       "      <td>26</td>\n",
       "      <td>13.000000</td>\n",
       "    </tr>\n",
       "    <tr>\n",
       "      <th>1</th>\n",
       "      <td>0</td>\n",
       "      <td>16549426</td>\n",
       "      <td>0.056918</td>\n",
       "      <td>60</td>\n",
       "      <td>26</td>\n",
       "      <td>13.000000</td>\n",
       "    </tr>\n",
       "    <tr>\n",
       "      <th>2</th>\n",
       "      <td>0</td>\n",
       "      <td>14690772</td>\n",
       "      <td>0.056086</td>\n",
       "      <td>60</td>\n",
       "      <td>26</td>\n",
       "      <td>13.000000</td>\n",
       "    </tr>\n",
       "    <tr>\n",
       "      <th>3</th>\n",
       "      <td>0</td>\n",
       "      <td>17902234</td>\n",
       "      <td>0.055668</td>\n",
       "      <td>60</td>\n",
       "      <td>26</td>\n",
       "      <td>13.000000</td>\n",
       "    </tr>\n",
       "    <tr>\n",
       "      <th>4</th>\n",
       "      <td>0</td>\n",
       "      <td>14701552</td>\n",
       "      <td>0.055187</td>\n",
       "      <td>60</td>\n",
       "      <td>26</td>\n",
       "      <td>13.000000</td>\n",
       "    </tr>\n",
       "    <tr>\n",
       "      <th>...</th>\n",
       "      <td>...</td>\n",
       "      <td>...</td>\n",
       "      <td>...</td>\n",
       "      <td>...</td>\n",
       "      <td>...</td>\n",
       "      <td>...</td>\n",
       "    </tr>\n",
       "    <tr>\n",
       "      <th>6474845</th>\n",
       "      <td>1374582</td>\n",
       "      <td>49961817</td>\n",
       "      <td>1.276944</td>\n",
       "      <td>23</td>\n",
       "      <td>132</td>\n",
       "      <td>172.173913</td>\n",
       "    </tr>\n",
       "    <tr>\n",
       "      <th>6474846</th>\n",
       "      <td>1374582</td>\n",
       "      <td>50834580</td>\n",
       "      <td>1.249963</td>\n",
       "      <td>23</td>\n",
       "      <td>132</td>\n",
       "      <td>172.173913</td>\n",
       "    </tr>\n",
       "    <tr>\n",
       "      <th>6474847</th>\n",
       "      <td>1374582</td>\n",
       "      <td>50821247</td>\n",
       "      <td>1.225635</td>\n",
       "      <td>23</td>\n",
       "      <td>132</td>\n",
       "      <td>172.173913</td>\n",
       "    </tr>\n",
       "    <tr>\n",
       "      <th>6474848</th>\n",
       "      <td>1374582</td>\n",
       "      <td>52380688</td>\n",
       "      <td>1.201966</td>\n",
       "      <td>23</td>\n",
       "      <td>132</td>\n",
       "      <td>172.173913</td>\n",
       "    </tr>\n",
       "    <tr>\n",
       "      <th>6474849</th>\n",
       "      <td>1374582</td>\n",
       "      <td>51241318</td>\n",
       "      <td>1.191518</td>\n",
       "      <td>23</td>\n",
       "      <td>132</td>\n",
       "      <td>172.173913</td>\n",
       "    </tr>\n",
       "  </tbody>\n",
       "</table>\n",
       "<p>6474850 rows × 6 columns</p>\n",
       "</div>"
      ],
      "text/plain": [
       "         user_id   item_id  als_score  listening_period  tracks_listened  \\\n",
       "0              0  17352611   0.057886                60               26   \n",
       "1              0  16549426   0.056918                60               26   \n",
       "2              0  14690772   0.056086                60               26   \n",
       "3              0  17902234   0.055668                60               26   \n",
       "4              0  14701552   0.055187                60               26   \n",
       "...          ...       ...        ...               ...              ...   \n",
       "6474845  1374582  49961817   1.276944                23              132   \n",
       "6474846  1374582  50834580   1.249963                23              132   \n",
       "6474847  1374582  50821247   1.225635                23              132   \n",
       "6474848  1374582  52380688   1.201966                23              132   \n",
       "6474849  1374582  51241318   1.191518                23              132   \n",
       "\n",
       "         tracks_per_month  \n",
       "0               13.000000  \n",
       "1               13.000000  \n",
       "2               13.000000  \n",
       "3               13.000000  \n",
       "4               13.000000  \n",
       "...                   ...  \n",
       "6474845        172.173913  \n",
       "6474846        172.173913  \n",
       "6474847        172.173913  \n",
       "6474848        172.173913  \n",
       "6474849        172.173913  \n",
       "\n",
       "[6474850 rows x 6 columns]"
      ]
     },
     "execution_count": 79,
     "metadata": {},
     "output_type": "execute_result"
    }
   ],
   "source": [
    "candidates"
   ]
  },
  {
   "cell_type": "code",
   "execution_count": 9,
   "id": "202ab2b0",
   "metadata": {},
   "outputs": [],
   "source": [
    "# добавляем таргет к кандидатам со значением:\n",
    "# — 1 для тех item_id, которые пользователь прочитал\n",
    "# — 0, для всех остальных \n",
    "\n",
    "events_labels[\"target\"] = 1\n",
    "candidates = candidates.merge(events_labels[[\"user_id\", \"item_id\", \"target\"]], \n",
    "                              on=[\"user_id\", \"item_id\"], how=\"left\")\n",
    "candidates[\"target\"] = candidates[\"target\"].fillna(0).astype(\"int\")\n",
    "\n",
    "# в кандидатах оставляем только тех пользователей, у которых есть хотя бы один положительный таргет\n",
    "candidates_for_train = candidates.groupby(\"user_id\").filter(lambda x: x[\"target\"].sum() > 0)"
   ]
  },
  {
   "cell_type": "code",
   "execution_count": 10,
   "id": "5d6594ab",
   "metadata": {},
   "outputs": [
    {
     "name": "stdout",
     "output_type": "stream",
     "text": [
      "0:\tlearn: 0.6655506\ttotal: 62.6ms\tremaining: 1m 2s\n",
      "100:\tlearn: 0.5512136\ttotal: 599ms\tremaining: 5.33s\n",
      "200:\tlearn: 0.5459864\ttotal: 1.16s\tremaining: 4.6s\n",
      "300:\tlearn: 0.5415568\ttotal: 1.72s\tremaining: 4s\n",
      "400:\tlearn: 0.5379347\ttotal: 2.31s\tremaining: 3.45s\n",
      "500:\tlearn: 0.5346329\ttotal: 2.86s\tremaining: 2.85s\n",
      "600:\tlearn: 0.5318948\ttotal: 3.42s\tremaining: 2.27s\n",
      "700:\tlearn: 0.5290690\ttotal: 3.97s\tremaining: 1.69s\n",
      "800:\tlearn: 0.5264784\ttotal: 4.54s\tremaining: 1.13s\n",
      "900:\tlearn: 0.5240651\ttotal: 5.09s\tremaining: 560ms\n",
      "999:\tlearn: 0.5219935\ttotal: 5.65s\tremaining: 0us\n"
     ]
    },
    {
     "data": {
      "text/plain": [
       "<catboost.core.CatBoostClassifier at 0x7f2dac61df90>"
      ]
     },
     "execution_count": 10,
     "metadata": {},
     "output_type": "execute_result"
    }
   ],
   "source": [
    "# задаём имена колонок признаков и таргета\n",
    "features = ['als_score', 'listening_period', 'tracks_listened', 'tracks_per_month']\n",
    "target = 'target'\n",
    "\n",
    "# создаем Pool object\n",
    "train_data = Pool(\n",
    "    data=candidates_for_train[features], \n",
    "    label=candidates_for_train[target])\n",
    "\n",
    "# инициализируем модель CatBoostClassifier\n",
    "cb_model = CatBoostClassifier(\n",
    "    iterations=1000,\n",
    "    learning_rate=0.1,\n",
    "    depth=6,\n",
    "    loss_function='Logloss',\n",
    "    verbose=100,\n",
    "    random_seed=0\n",
    ")\n",
    "\n",
    "# тренируем модель\n",
    "cb_model.fit(train_data)"
   ]
  },
  {
   "cell_type": "markdown",
   "id": "ad4b3c42",
   "metadata": {},
   "source": [
    "Подготовим данные для инференса"
   ]
  },
  {
   "cell_type": "code",
   "execution_count": 4,
   "id": "8edd2a0e",
   "metadata": {},
   "outputs": [],
   "source": [
    "# составим актуальные рекоммендации на основе последних трех месяцев, для уменьшения нагрузки на систему\n",
    "inference_global_time_split_date = pd.to_datetime(\"2022-09-01\")\n",
    "split_date_for_inference_idx = events_train[\"started_at\"] > inference_global_time_split_date\n",
    "events_train = events_train[split_date_for_inference_idx].copy()"
   ]
  },
  {
   "cell_type": "code",
   "execution_count": 6,
   "id": "407c5f4d",
   "metadata": {},
   "outputs": [],
   "source": [
    "events_inference = pd.concat([events_train, events_labels])"
   ]
  },
  {
   "cell_type": "code",
   "execution_count": 7,
   "id": "3813f646",
   "metadata": {},
   "outputs": [],
   "source": [
    "# оставим только тех пользователей, что есть в тесте, для экономии ресурсов\n",
    "events_inference = events_inference[events_inference[\"user_id\"].isin(events_test_2[\"user_id\"])]"
   ]
  },
  {
   "cell_type": "code",
   "execution_count": 9,
   "id": "14bb7efd",
   "metadata": {},
   "outputs": [],
   "source": [
    "user_features_for_ranking = get_user_features(events_inference)"
   ]
  },
  {
   "cell_type": "code",
   "execution_count": 10,
   "id": "411f7b92",
   "metadata": {},
   "outputs": [],
   "source": [
    "user_features_for_ranking.to_parquet(\"user_features_rank.parquet\")"
   ]
  },
  {
   "cell_type": "markdown",
   "id": "6adb04b4",
   "metadata": {},
   "source": [
    "Обучаем ALS модель на данных для инференса "
   ]
  },
  {
   "cell_type": "code",
   "execution_count": 10,
   "id": "5e6487e3",
   "metadata": {},
   "outputs": [],
   "source": [
    "user_item_matrix_inference = scipy.sparse.csr_matrix((\n",
    "    events_inference[\"track_seq\"],\n",
    "    (events_inference['user_id'], events_inference['item_id_enc'])),\n",
    "    dtype=np.int8)"
   ]
  },
  {
   "cell_type": "code",
   "execution_count": 12,
   "id": "ecf09b22",
   "metadata": {},
   "outputs": [
    {
     "name": "stderr",
     "output_type": "stream",
     "text": [
      "/home/mle-user/mle-recsys-project/.venv_recsys-project/lib/python3.10/site-packages/implicit/cpu/als.py:95: RuntimeWarning: OpenBLAS is configured to use 4 threads. It is highly recommended to disable its internal threadpool by setting the environment variable 'OPENBLAS_NUM_THREADS=1' or by calling 'threadpoolctl.threadpool_limits(1, \"blas\")'. Having OpenBLAS use a threadpool can lead to severe performance issues here.\n",
      "  check_blas_config()\n"
     ]
    },
    {
     "data": {
      "application/vnd.jupyter.widget-view+json": {
       "model_id": "c27fbcf2271f4408a99800c87f8cae73",
       "version_major": 2,
       "version_minor": 0
      },
      "text/plain": [
       "  0%|          | 0/10 [00:00<?, ?it/s]"
      ]
     },
     "metadata": {},
     "output_type": "display_data"
    }
   ],
   "source": [
    "als_model = AlternatingLeastSquares(factors=10, iterations=10, regularization=0.05, random_state=0)\n",
    "als_model.fit(user_item_matrix_inference)"
   ]
  },
  {
   "cell_type": "code",
   "execution_count": 14,
   "id": "c48ba918",
   "metadata": {},
   "outputs": [],
   "source": [
    "user_ids = events_inference[\"user_id\"].unique()\n",
    "\n",
    "als_recommendations_inference = als_model.recommend(\n",
    "    user_ids, \n",
    "    user_item_matrix_inference[user_ids], \n",
    "    filter_already_liked_items=True, N=5)\n",
    "\n",
    "# преобразуем полученные рекомендации в табличный формат\n",
    "item_ids_enc = als_recommendations_inference[0]\n",
    "als_scores = als_recommendations_inference[1]\n",
    "\n",
    "als_recommendations_inference = pd.DataFrame({\n",
    "    \"user_id\": user_ids,\n",
    "    \"item_id_enc\": item_ids_enc.tolist(), \n",
    "    \"score\": als_scores.tolist()})\n",
    "als_recommendations_inference = als_recommendations_inference.explode([\"item_id_enc\", \"score\"], ignore_index=True)\n",
    "\n",
    "# приводим типы данных\n",
    "als_recommendations_inference[\"item_id_enc\"] = als_recommendations_inference[\"item_id_enc\"].astype(\"int\")\n",
    "als_recommendations_inference[\"score\"] = als_recommendations_inference[\"score\"].astype(\"float\")\n",
    "\n",
    "# получаем изначальные идентификаторы\n",
    "als_recommendations_inference[\"item_id\"] = item_encoder.inverse_transform(als_recommendations_inference[\"item_id_enc\"])\n",
    "als_recommendations_inference = als_recommendations_inference.drop(columns=\"item_id_enc\")\n",
    "\n",
    "als_recommendations_inference.to_parquet(\"personal_als_inference.parquet\")"
   ]
  },
  {
   "cell_type": "code",
   "execution_count": 12,
   "id": "ee839221",
   "metadata": {},
   "outputs": [],
   "source": [
    "s3_client.upload_file(Filename=\"personal_als_inference.parquet\", Bucket=bucket_name, Key='recsys/recommendations/personal_als_inference.parquet')"
   ]
  },
  {
   "cell_type": "code",
   "execution_count": 11,
   "id": "8587d2be",
   "metadata": {},
   "outputs": [],
   "source": [
    "# восстановим данные\n",
    "als_recommendations_inference = pd.read_parquet(\"personal_als_inference.parquet\")\n",
    "user_features_for_ranking = pd.read_parquet(\"user_features_rank.parquet\")"
   ]
  },
  {
   "cell_type": "code",
   "execution_count": 12,
   "id": "18af94bd",
   "metadata": {},
   "outputs": [],
   "source": [
    "candidates_to_rank = pd.merge(\n",
    "    als_recommendations_inference[[\"user_id\", \"item_id\", \"score\"]].rename(columns={\"score\": \"als_score\"}),\n",
    "    user_features_for_ranking,\n",
    "    on=\"user_id\",\n",
    "    how=\"left\"\n",
    ")"
   ]
  },
  {
   "cell_type": "code",
   "execution_count": null,
   "id": "3b595a00",
   "metadata": {},
   "outputs": [],
   "source": [
    "inference_data = Pool(data=candidates_to_rank[features])\n",
    "predictions = cb_model.predict_proba(inference_data)\n",
    "\n",
    "candidates_to_rank[\"cb_score\"] = predictions[:, 1]\n",
    "\n",
    "# для каждого пользователя проставляем rank, начиная с 1 — это максимальный cb_score\n",
    "candidates_to_rank = candidates_to_rank.sort_values([\"user_id\", \"cb_score\"], ascending=[True, False])\n",
    "candidates_to_rank[\"rank\"] = candidates_to_rank.groupby(\"user_id\").cumcount() + 1\n",
    "\n",
    "max_recommendations_per_user = 5\n",
    "final_recommendations = candidates_to_rank.groupby(\"user_id\").head(max_recommendations_per_user)"
   ]
  },
  {
   "cell_type": "code",
   "execution_count": 14,
   "id": "04470210",
   "metadata": {},
   "outputs": [],
   "source": [
    "final_recommendations.to_parquet(\"recommendations.parquet\")"
   ]
  },
  {
   "cell_type": "code",
   "execution_count": 10,
   "id": "d3699114",
   "metadata": {},
   "outputs": [],
   "source": [
    "s3_client.upload_file(Filename=\"recommendations.parquet\", Bucket=bucket_name, Key='recsys/recommendations/recommendations.parquet')"
   ]
  },
  {
   "cell_type": "markdown",
   "id": "b3c84071-45b5-4a15-a683-e0ab034a3128",
   "metadata": {},
   "source": [
    "# Оценка качества"
   ]
  },
  {
   "cell_type": "markdown",
   "id": "1b107fe4-554e-42b1-87d9-c435a52bb77a",
   "metadata": {},
   "source": [
    "Проверим оценку качества трёх типов рекомендаций: \n",
    "\n",
    "- топ популярных,\n",
    "- персональных, полученных при помощи ALS,\n",
    "- итоговых\n",
    "  \n",
    "по четырем метрикам: recall, precision, coverage, novelty."
   ]
  },
  {
   "cell_type": "markdown",
   "id": "4b38d6bf",
   "metadata": {},
   "source": [
    "Загрузим данные и определим функции"
   ]
  },
  {
   "cell_type": "code",
   "execution_count": 18,
   "id": "e83699dc",
   "metadata": {},
   "outputs": [],
   "source": [
    "top_pop = pd.read_parquet(\"top_popular.parquet\")"
   ]
  },
  {
   "cell_type": "code",
   "execution_count": null,
   "id": "8dd1ed9b",
   "metadata": {},
   "outputs": [],
   "source": [
    "als_recommendations = pd.read_parquet(\"personal_als.parquet\")"
   ]
  },
  {
   "cell_type": "code",
   "execution_count": 8,
   "id": "e9208a3e",
   "metadata": {},
   "outputs": [],
   "source": [
    "final_recommendations = pd.read_parquet(\"recommendations.parquet\")"
   ]
  },
  {
   "cell_type": "code",
   "execution_count": null,
   "id": "94d6f388-aecb-443e-8647-14014e932d4d",
   "metadata": {},
   "outputs": [],
   "source": [
    "def process_events_recs_for_binary_metrics(events_train, events_test, recs, top_k=None):\n",
    "\n",
    "    \"\"\"\n",
    "    размечает пары <user_id, item_id> для общего множества пользователей признаками\n",
    "    - gt (ground truth) - треки прослушанные пользователем\n",
    "    - pr (prediction) - рекомендации\n",
    "    top_k: расчёт ведётся только для top k-рекомендаций\n",
    "    \"\"\"\n",
    "\n",
    "    events_test[\"gt\"] = True\n",
    "    common_users = set(events_test[\"user_id\"]) & set(recs[\"user_id\"])\n",
    "\n",
    "    print(f\"Common users: {len(common_users)}\")\n",
    "    \n",
    "    events_for_common_users = events_test[events_test[\"user_id\"].isin(common_users)].copy()\n",
    "    recs_for_common_users = recs[recs[\"user_id\"].isin(common_users)].copy()\n",
    "\n",
    "    recs_for_common_users = recs_for_common_users.sort_values([\"user_id\", \"score\"], ascending=[True, False])\n",
    "\n",
    "    # оставляет только те item_id, которые были в events_train, \n",
    "    # т. к. модель не имела никакой возможности давать рекомендации для новых айтемов\n",
    "    events_for_common_users = events_for_common_users[events_for_common_users[\"item_id\"].isin(events_train[\"item_id\"].unique())]\n",
    "\n",
    "    if top_k is not None:\n",
    "        recs_for_common_users = recs_for_common_users.groupby(\"user_id\").head(top_k)\n",
    "    \n",
    "    events_recs_common = events_for_common_users[[\"user_id\", \"item_id\", \"gt\"]].merge(\n",
    "        recs_for_common_users[[\"user_id\", \"item_id\", \"score\"]], \n",
    "        on=[\"user_id\", \"item_id\"], how=\"outer\")    \n",
    "\n",
    "    events_recs_common[\"gt\"] = events_recs_common[\"gt\"].fillna(False)\n",
    "    events_recs_common[\"pr\"] = ~events_recs_common[\"score\"].isnull()\n",
    "    \n",
    "    events_recs_common[\"tp\"] = events_recs_common[\"gt\"] & events_recs_common[\"pr\"]\n",
    "    events_recs_common[\"fp\"] = ~events_recs_common[\"gt\"] & events_recs_common[\"pr\"]\n",
    "    events_recs_common[\"fn\"] = events_recs_common[\"gt\"] & ~events_recs_common[\"pr\"]\n",
    "\n",
    "    return events_recs_common"
   ]
  },
  {
   "cell_type": "code",
   "execution_count": null,
   "id": "290ff21b",
   "metadata": {},
   "outputs": [],
   "source": [
    "def compute_cls_metrics(events_recs_for_binary_metric):\n",
    "    \n",
    "    groupper = events_recs_for_binary_metric.groupby(\"user_id\")\n",
    "\n",
    "    # precision = tp / (tp + fp)\n",
    "    precision = groupper[\"tp\"].sum()/(groupper[\"tp\"].sum()+groupper[\"fp\"].sum())\n",
    "    precision = precision.fillna(0).mean()\n",
    "    \n",
    "    # recall = tp / (tp + fn)\n",
    "    recall = groupper[\"tp\"].sum()/(groupper[\"tp\"].sum()+groupper[\"fn\"].sum())\n",
    "    recall = recall.fillna(0).mean()\n",
    "\n",
    "    return precision, recall "
   ]
  },
  {
   "cell_type": "markdown",
   "id": "7fbaa642",
   "metadata": {},
   "source": [
    "Рассчитаем метрики для топа популярных"
   ]
  },
  {
   "cell_type": "code",
   "execution_count": null,
   "id": "d473f745",
   "metadata": {},
   "outputs": [],
   "source": [
    "# подготовим данные для рассчета в функциях\n",
    "top_pop = top_pop.merge(events_train[[\"user_id\", \"item_id\"]], on=\"item_id\", how='left')"
   ]
  },
  {
   "cell_type": "code",
   "execution_count": 23,
   "id": "63bc1edf",
   "metadata": {},
   "outputs": [],
   "source": [
    "top_pop.rename(columns={\"plays\": \"score\"}, inplace=True)"
   ]
  },
  {
   "cell_type": "code",
   "execution_count": null,
   "id": "dc395efa",
   "metadata": {},
   "outputs": [
    {
     "name": "stderr",
     "output_type": "stream",
     "text": [
      "/tmp/ipykernel_2652/1061002411.py:10: SettingWithCopyWarning: \n",
      "A value is trying to be set on a copy of a slice from a DataFrame.\n",
      "Try using .loc[row_indexer,col_indexer] = value instead\n",
      "\n",
      "See the caveats in the documentation: https://pandas.pydata.org/pandas-docs/stable/user_guide/indexing.html#returning-a-view-versus-a-copy\n",
      "  events_test[\"gt\"] = True\n"
     ]
    },
    {
     "name": "stdout",
     "output_type": "stream",
     "text": [
      "Common users: 431509\n"
     ]
    }
   ],
   "source": [
    "top_recs_for_binary_metrics = process_events_recs_for_binary_metrics(\n",
    "  events_train,\n",
    "    events_test, \n",
    "    top_pop, \n",
    "    top_k=5)"
   ]
  },
  {
   "cell_type": "code",
   "execution_count": 37,
   "id": "e46c114d",
   "metadata": {},
   "outputs": [],
   "source": [
    "top_precision, top_recall = compute_cls_metrics(top_recs_for_binary_metrics)"
   ]
  },
  {
   "cell_type": "code",
   "execution_count": 26,
   "id": "b33a6718",
   "metadata": {},
   "outputs": [],
   "source": [
    "cov_items_top = top_pop[\"item_id\"].nunique()/items[\"item_id\"].nunique()"
   ]
  },
  {
   "cell_type": "markdown",
   "id": "484550a0",
   "metadata": {},
   "source": [
    "Рассчитаем метрики для ALS-модели"
   ]
  },
  {
   "cell_type": "code",
   "execution_count": null,
   "id": "6efd07e2",
   "metadata": {},
   "outputs": [],
   "source": [
    "als_recs_for_binary_metrics = process_events_recs_for_binary_metrics(\n",
    "  events_train,\n",
    "    events_test, \n",
    "    als_recommendations, \n",
    "    top_k=5)"
   ]
  },
  {
   "cell_type": "code",
   "execution_count": null,
   "id": "2e5c4902",
   "metadata": {},
   "outputs": [],
   "source": [
    "als_precision, als_recall = compute_cls_metrics(als_recs_for_binary_metrics)"
   ]
  },
  {
   "cell_type": "code",
   "execution_count": null,
   "id": "6c720b67",
   "metadata": {},
   "outputs": [],
   "source": [
    "cov_items_als = als_recommendations[\"item_id\"].nunique()/items[\"item_id\"].nunique()"
   ]
  },
  {
   "cell_type": "markdown",
   "id": "2da4aac4",
   "metadata": {},
   "source": [
    "Рассчитаем метрики для финальной модели"
   ]
  },
  {
   "cell_type": "code",
   "execution_count": 10,
   "id": "d8025c12",
   "metadata": {},
   "outputs": [],
   "source": [
    "final_recommendations.rename(columns={\"cb_score\": \"score\"}, inplace=True)"
   ]
  },
  {
   "cell_type": "code",
   "execution_count": 11,
   "id": "34dff35b",
   "metadata": {},
   "outputs": [
    {
     "name": "stdout",
     "output_type": "stream",
     "text": [
      "Common users: 768558\n"
     ]
    }
   ],
   "source": [
    "fin_recs_for_binary_metrics = process_events_recs_for_binary_metrics(\n",
    "  events_inference,\n",
    "    events_test_2, \n",
    "    final_recommendations, \n",
    "    top_k=5)"
   ]
  },
  {
   "cell_type": "code",
   "execution_count": 14,
   "id": "312a7ec1",
   "metadata": {},
   "outputs": [],
   "source": [
    "fin_precision, fin_recall = compute_cls_metrics(fin_recs_for_binary_metrics)"
   ]
  },
  {
   "cell_type": "code",
   "execution_count": 15,
   "id": "5fabb686",
   "metadata": {},
   "outputs": [],
   "source": [
    "cov_items_fin = final_recommendations[\"item_id\"].nunique()/items[\"item_id\"].nunique()"
   ]
  },
  {
   "cell_type": "markdown",
   "id": "8cf2674f",
   "metadata": {},
   "source": [
    "Поскольку рассчет рекомендаций производился только для айтемов, с которыми пользователь ранее не взаимодействовал (флаг - \"filter_already_liked_items=True\") для экономии ресурсов - то оценка рекомендаций по новизне неинформативна"
   ]
  },
  {
   "cell_type": "code",
   "execution_count": null,
   "id": "db3d469f",
   "metadata": {},
   "outputs": [
    {
     "name": "stderr",
     "output_type": "stream",
     "text": [
      "/tmp/ipykernel_2388/3506993917.py:2: SettingWithCopyWarning: \n",
      "A value is trying to be set on a copy of a slice from a DataFrame.\n",
      "Try using .loc[row_indexer,col_indexer] = value instead\n",
      "\n",
      "See the caveats in the documentation: https://pandas.pydata.org/pandas-docs/stable/user_guide/indexing.html#returning-a-view-versus-a-copy\n",
      "  events_train[\"read\"] = True\n"
     ]
    },
    {
     "ename": "",
     "evalue": "",
     "output_type": "error",
     "traceback": [
      "\u001b[1;31mThe Kernel crashed while executing code in the current cell or a previous cell. \n",
      "\u001b[1;31mPlease review the code in the cell(s) to identify a possible cause of the failure. \n",
      "\u001b[1;31mClick <a href='https://aka.ms/vscodeJupyterKernelCrash'>here</a> for more info. \n",
      "\u001b[1;31mView Jupyter <a href='command:jupyter.viewOutput'>log</a> for further details."
     ]
    }
   ],
   "source": [
    "# разметим каждую рекомендацию признаком listen\n",
    "events_train[\"listen\"] = True\n",
    "als_recommendations = als_recommendations.merge(events_train[[\"listen\", \"user_id\", \"item_id\"]], on=[\"user_id\", \"item_id\"], how=\"left\")\n",
    "als_recommendations[\"listen\"] = als_recommendations[\"listen\"].fillna(False).astype(\"bool\")\n",
    "\n",
    "# проставим ранги\n",
    "als_recommendations = als_recommendations.sort_values(\"score\", ascending=False)\n",
    "als_recommendations[\"listen\"] = als_recommendations.groupby(\"user_id\").cumcount() + 1\n",
    "\n",
    "# посчитаем novelty по пользователям\n",
    "novelty_5_als = (1-als_recommendations.query(\"rank <= 5\").groupby(\"user_id\")[\"listen\"].mean())\n",
    "\n",
    "# посчитаем средний novelty\n",
    "novelty_5_als.mean()"
   ]
  },
  {
   "cell_type": "markdown",
   "id": "f1c8d38c-32b0-46a4-96f0-cd01dac708bc",
   "metadata": {},
   "source": [
    "# === Выводы, метрики ==="
   ]
  },
  {
   "cell_type": "markdown",
   "id": "f7d7d5d8-7d1e-4fdf-a6cd-83e5ce92c684",
   "metadata": {},
   "source": [
    "Основные выводы при работе над расчётом рекомендаций, рассчитанные метрики."
   ]
  },
  {
   "cell_type": "code",
   "execution_count": null,
   "id": "bfd63d21",
   "metadata": {},
   "outputs": [
    {
     "name": "stdout",
     "output_type": "stream",
     "text": [
      "Метрики рекомендаций популярного:\n",
      "    precision: 0.0;\n",
      "    recall: 0.0;\n",
      "    coverage: 0.0001\n"
     ]
    }
   ],
   "source": [
    "print(f\"Метрики рекомендаций популярного:\\n\\\n",
    "    precision: {top_precision};\\n\\\n",
    "    recall: {top_recall};\\n\\\n",
    "    coverage: {cov_items_top}\")"
   ]
  },
  {
   "cell_type": "code",
   "execution_count": null,
   "id": "6403097d-db36-46d9-8952-613c9bd51b05",
   "metadata": {},
   "outputs": [
    {
     "name": "stdout",
     "output_type": "stream",
     "text": [
      "Метрики ALS-рекомендаций:\n",
      "    precision: 0.003;\n",
      "    recall: 0.002;\n",
      "    coverage: 0.003\n"
     ]
    }
   ],
   "source": [
    "print(f\"Метрики ALS-рекомендаций:\\n\\\n",
    "    precision: {als_precision:.3f};\\n\\\n",
    "    recall: {als_recall:.3f};\\n\\\n",
    "    coverage: {cov_items_als:.3f}\")"
   ]
  },
  {
   "cell_type": "code",
   "execution_count": 17,
   "id": "986cfdd5-6f2e-4de6-8666-85804c87d04b",
   "metadata": {},
   "outputs": [
    {
     "name": "stdout",
     "output_type": "stream",
     "text": [
      "Метрики финальной модели ранжирования:\n",
      "    precision: 0.0024;\n",
      "    recall: 0.0025;\n",
      "    coverage: 0.0022\n"
     ]
    }
   ],
   "source": [
    "print(f\"Метрики финальной модели ранжирования:\\n\\\n",
    "    precision: {fin_precision:.4f};\\n\\\n",
    "    recall: {fin_recall:.4f};\\n\\\n",
    "    coverage: {cov_items_fin:.4f}\")"
   ]
  },
  {
   "cell_type": "markdown",
   "id": "7d7b7153",
   "metadata": {},
   "source": [
    "# Выводы\n",
    "- Треки прослушанные пользователем за последний месяц не совпали с топом популярных (построенном на основе ноябрьских прослушиваний).\n",
    "- Метрики ALS-рекомендаций немногим выше метрик финальной модели - это, вероятно, связано с тем, что для инференса была взята лишь часть данных из \"events_train\".\n",
    "- Метрики в целом имеют не очень высокие показатели - это, в свою очередь, связано с тем, что для рекомендаций отбирался лишь топ 5 треков (для ускорения рассчетов). Для рассчета большего числа рекомендаций на пользователя требуются бОльшие мощности, либо уменьшение тренировочной выборки (скажем - рекоммендации за последнии 30 дней), как это было сделано с финальной моделью."
   ]
  }
 ],
 "metadata": {
  "kernelspec": {
   "display_name": ".venv_recsys-project",
   "language": "python",
   "name": "python3"
  },
  "language_info": {
   "codemirror_mode": {
    "name": "ipython",
    "version": 3
   },
   "file_extension": ".py",
   "mimetype": "text/x-python",
   "name": "python",
   "nbconvert_exporter": "python",
   "pygments_lexer": "ipython3",
   "version": "3.10.12"
  }
 },
 "nbformat": 4,
 "nbformat_minor": 5
}
